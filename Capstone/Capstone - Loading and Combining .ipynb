{
 "cells": [
  {
   "cell_type": "code",
   "execution_count": 123,
   "metadata": {},
   "outputs": [],
   "source": [
    "import numpy as np\n",
    "import seaborn as sns\n",
    "import pandas as pd\n",
    "from scipy import stats\n",
    "\n",
    "import matplotlib\n",
    "import matplotlib.pyplot as plt\n",
    "\n",
    "%config InlineBackend.figure_format = 'retina'\n",
    "%matplotlib inline\n",
    "\n",
    "plt.style.use('fivethirtyeight')"
   ]
  },
  {
   "cell_type": "markdown",
   "metadata": {},
   "source": [
    "## Load and Combine Data\n",
    "There are 9 dataframes in this dataset covering various aspects of the business:\n",
    "- customers: containing customers location information\n",
    "- products: containing key prouct measurements and pricing\n",
    "- locations: geospatial information\n",
    "- order item: key dataframe with each item within each order, along with price and freight value\n",
    "- payments: containing payment details including type of payment and installments\n",
    "- reviews: reviews for each order with rating and comments (comments are in Portuguese so difficult to use for NLP)\n",
    "- orders: information pertaining to each individual order. Key dataframe as it links most others together and contains delivery timeframe information\n",
    "- sellers: contains sellers location information\n",
    "- translation: translates the product category information from Portuguese to English"
   ]
  },
  {
   "cell_type": "code",
   "execution_count": 124,
   "metadata": {},
   "outputs": [],
   "source": [
    "prod = pd.read_csv('./datasets/olist_products_dataset.csv')"
   ]
  },
  {
   "cell_type": "code",
   "execution_count": 125,
   "metadata": {},
   "outputs": [],
   "source": [
    "cust = pd.read_csv('./datasets/olist_customers_dataset.csv')\n",
    "loc = pd.read_csv('./datasets/olist_geolocation_dataset.csv')\n",
    "order_items = pd.read_csv('./datasets/olist_order_items_dataset.csv')\n",
    "pay = pd.read_csv('./datasets/olist_order_payments_dataset.csv')\n",
    "reviews = pd.read_csv('./datasets/olist_order_reviews_dataset.csv')\n",
    "orders = pd.read_csv('./datasets/olist_orders_dataset.csv')\n",
    "seller = pd.read_csv('./datasets/olist_sellers_dataset.csv')\n",
    "trans = pd.read_csv('./datasets/product_category_name_translation.csv')"
   ]
  },
  {
   "cell_type": "markdown",
   "metadata": {},
   "source": [
    "##### Start by translating the category information"
   ]
  },
  {
   "cell_type": "code",
   "execution_count": 126,
   "metadata": {},
   "outputs": [],
   "source": [
    "prod = prod.merge(trans, on='product_category_name').drop('product_category_name', axis=1)"
   ]
  },
  {
   "cell_type": "markdown",
   "metadata": {},
   "source": [
    "##### Now lets take a look at the shapes of our dataframes"
   ]
  },
  {
   "cell_type": "code",
   "execution_count": 127,
   "metadata": {},
   "outputs": [
    {
     "name": "stdout",
     "output_type": "stream",
     "text": [
      "products      (32328, 9)\n",
      "customers     (99441, 5)\n",
      "locations     (1000163, 5)\n",
      "ordered items (112650, 7)\n",
      "payments      (103886, 5)\n",
      "reviews       (100000, 7)\n",
      "orders        (99441, 8)\n",
      "sellers       (3095, 4)\n",
      "translation   (71, 2)\n"
     ]
    }
   ],
   "source": [
    "print(\"products     \", prod.shape) #merged successfully\n",
    "print(\"customers    \", cust.shape) #merged successfully\n",
    "print(\"locations    \", loc.shape)\n",
    "print(\"ordered items\", order_items.shape) #Max rows : don't want the final df to be longer than this. Start with this dataframe\n",
    "print(\"payments     \", pay.shape) #merged successfully with alterations to original dataframe\n",
    "print(\"reviews      \", reviews.shape) #merged successfully with alterations to original dataframe\n",
    "print(\"orders       \", orders.shape) #merged successfully\n",
    "print(\"sellers      \", seller.shape) #merged successfully\n",
    "print(\"translation  \", trans.shape) #product category name already in english in products df\n"
   ]
  },
  {
   "cell_type": "markdown",
   "metadata": {},
   "source": [
    "##### As the ordered items contains the most rows as well as the key information that we want to connect with others, I will start with this as the main dataframe and connect all others to it using the keys provided in the data schema"
   ]
  },
  {
   "cell_type": "code",
   "execution_count": 128,
   "metadata": {},
   "outputs": [],
   "source": [
    "df = order_items.merge(orders, how='left', on='order_id')"
   ]
  },
  {
   "cell_type": "code",
   "execution_count": 129,
   "metadata": {},
   "outputs": [],
   "source": [
    "df = df.merge(prod, how='left', on='product_id')"
   ]
  },
  {
   "cell_type": "code",
   "execution_count": 130,
   "metadata": {},
   "outputs": [],
   "source": [
    "df = df.merge(seller, how='left', on='seller_id')"
   ]
  },
  {
   "cell_type": "code",
   "execution_count": 131,
   "metadata": {},
   "outputs": [],
   "source": [
    "df = df.merge(cust, how='left', on='customer_id')"
   ]
  },
  {
   "cell_type": "code",
   "execution_count": 132,
   "metadata": {},
   "outputs": [],
   "source": [
    "# df = df.merge(pay, how='left', on='order_id', ) "
   ]
  },
  {
   "cell_type": "markdown",
   "metadata": {},
   "source": [
    "##### Adding on the payments  caused the dataframe to increase in length, I will need to look into why this has occured"
   ]
  },
  {
   "cell_type": "code",
   "execution_count": 133,
   "metadata": {},
   "outputs": [
    {
     "data": {
      "text/plain": [
       "(112650, 29)"
      ]
     },
     "execution_count": 133,
     "metadata": {},
     "output_type": "execute_result"
    }
   ],
   "source": [
    "df.shape"
   ]
  },
  {
   "cell_type": "markdown",
   "metadata": {},
   "source": [
    "#### Check out duplicate order ids in the pay dataframe"
   ]
  },
  {
   "cell_type": "code",
   "execution_count": 187,
   "metadata": {},
   "outputs": [],
   "source": [
    "#creation of a list of order_ids where there are several payments for the order\n",
    "\n",
    "def duplicate_list(df, col):\n",
    "    \"\"\"\n",
    "       Takes a dataframe and a column within that dataframe and \n",
    "       returns a list of duplicate values within that column\n",
    "       \n",
    "       Parameters:\n",
    "       df\n",
    "         pandas dataframe\n",
    "       col\n",
    "         string of column name\n",
    "         \n",
    "       Returns:\n",
    "       list\n",
    "         a list of duplicate values \n",
    "         \n",
    "    \"\"\"\n",
    "    col_vc = df[col].value_counts()\n",
    "    duplicates = col_vc[col_vc>1].index.tolist()\n",
    "    return duplicates"
   ]
  },
  {
   "cell_type": "code",
   "execution_count": 188,
   "metadata": {},
   "outputs": [],
   "source": [
    "duplicate_payments = duplicate_list(pay,'order_id')"
   ]
  },
  {
   "cell_type": "code",
   "execution_count": 189,
   "metadata": {},
   "outputs": [
    {
     "data": {
      "text/plain": [
       "['fa65dad1b0e818e3ccc5cb0e39231352',\n",
       " 'ccf804e764ed5650cd8759557269dc13',\n",
       " '285c2e15bebd4ac83635ccc563dc71f4',\n",
       " '895ab968e7bb0d5659d16cd74cd1650c',\n",
       " 'fedcd9f7ccdc8cba3a18defedd1a5547',\n",
       " 'ee9ca989fc93ba09a6eddc250ce01742',\n",
       " '21577126c19bf11a0b91592e5844ba78',\n",
       " '4bfcba9e084f46c8e3cb49b0fa6e6159',\n",
       " '4689b1816de42507a7d63a4617383c59',\n",
       " '3c58bffb70dcf45f12bdf66a3c215905']"
      ]
     },
     "execution_count": 189,
     "metadata": {},
     "output_type": "execute_result"
    }
   ],
   "source": [
    "duplicate_payments[0:10]"
   ]
  },
  {
   "cell_type": "code",
   "execution_count": 191,
   "metadata": {},
   "outputs": [
    {
     "data": {
      "text/html": [
       "<div>\n",
       "<style scoped>\n",
       "    .dataframe tbody tr th:only-of-type {\n",
       "        vertical-align: middle;\n",
       "    }\n",
       "\n",
       "    .dataframe tbody tr th {\n",
       "        vertical-align: top;\n",
       "    }\n",
       "\n",
       "    .dataframe thead th {\n",
       "        text-align: right;\n",
       "    }\n",
       "</style>\n",
       "<table border=\"1\" class=\"dataframe\">\n",
       "  <thead>\n",
       "    <tr style=\"text-align: right;\">\n",
       "      <th></th>\n",
       "      <th>order_id</th>\n",
       "      <th>payment_sequential</th>\n",
       "      <th>payment_type</th>\n",
       "      <th>payment_installments</th>\n",
       "      <th>payment_value</th>\n",
       "    </tr>\n",
       "  </thead>\n",
       "  <tbody>\n",
       "    <tr>\n",
       "      <th>4885</th>\n",
       "      <td>fa65dad1b0e818e3ccc5cb0e39231352</td>\n",
       "      <td>27</td>\n",
       "      <td>voucher</td>\n",
       "      <td>1</td>\n",
       "      <td>66.02</td>\n",
       "    </tr>\n",
       "    <tr>\n",
       "      <th>9985</th>\n",
       "      <td>fa65dad1b0e818e3ccc5cb0e39231352</td>\n",
       "      <td>4</td>\n",
       "      <td>voucher</td>\n",
       "      <td>1</td>\n",
       "      <td>29.16</td>\n",
       "    </tr>\n",
       "    <tr>\n",
       "      <th>14321</th>\n",
       "      <td>fa65dad1b0e818e3ccc5cb0e39231352</td>\n",
       "      <td>1</td>\n",
       "      <td>voucher</td>\n",
       "      <td>1</td>\n",
       "      <td>3.71</td>\n",
       "    </tr>\n",
       "    <tr>\n",
       "      <th>17274</th>\n",
       "      <td>fa65dad1b0e818e3ccc5cb0e39231352</td>\n",
       "      <td>9</td>\n",
       "      <td>voucher</td>\n",
       "      <td>1</td>\n",
       "      <td>1.08</td>\n",
       "    </tr>\n",
       "    <tr>\n",
       "      <th>19565</th>\n",
       "      <td>fa65dad1b0e818e3ccc5cb0e39231352</td>\n",
       "      <td>10</td>\n",
       "      <td>voucher</td>\n",
       "      <td>1</td>\n",
       "      <td>12.86</td>\n",
       "    </tr>\n",
       "  </tbody>\n",
       "</table>\n",
       "</div>"
      ],
      "text/plain": [
       "                               order_id  payment_sequential payment_type  \\\n",
       "4885   fa65dad1b0e818e3ccc5cb0e39231352                  27      voucher   \n",
       "9985   fa65dad1b0e818e3ccc5cb0e39231352                   4      voucher   \n",
       "14321  fa65dad1b0e818e3ccc5cb0e39231352                   1      voucher   \n",
       "17274  fa65dad1b0e818e3ccc5cb0e39231352                   9      voucher   \n",
       "19565  fa65dad1b0e818e3ccc5cb0e39231352                  10      voucher   \n",
       "\n",
       "       payment_installments  payment_value  \n",
       "4885                      1          66.02  \n",
       "9985                      1          29.16  \n",
       "14321                     1           3.71  \n",
       "17274                     1           1.08  \n",
       "19565                     1          12.86  "
      ]
     },
     "execution_count": 191,
     "metadata": {},
     "output_type": "execute_result"
    }
   ],
   "source": [
    "pay[pay['order_id'] == 'fa65dad1b0e818e3ccc5cb0e39231352'].head()"
   ]
  },
  {
   "cell_type": "markdown",
   "metadata": {},
   "source": [
    "##### Duplicates are shown to be several different 'payments' on the same order, not actually duplicate rows\n",
    "##### I want to drop rows where there are several payments but I don't want to lose this information so I will create summary columns for each of these and then add those to the main dataframe.\n"
   ]
  },
  {
   "cell_type": "markdown",
   "metadata": {},
   "source": [
    "##### Summarising each of the columns for each of the duplicate rows:"
   ]
  },
  {
   "cell_type": "code",
   "execution_count": 140,
   "metadata": {},
   "outputs": [],
   "source": [
    "payment_value = []\n",
    "payment_sequential = []\n",
    "payment_type = []\n",
    "payment_installments = []\n",
    "for n in duplicate_payments:    \n",
    "    payment_value.append(pay[pay['order_id'] == n].sum()[\"payment_value\"])\n",
    "    payment_sequential.append(pay[pay['order_id'] == n].count()[\"payment_sequential\"])\n",
    "    payment_type.append(pay[pay['order_id'] == n].mode()[\"payment_type\"][0])\n",
    "    payment_installments.append(pay[pay['order_id'] == n].mode()[\"payment_installments\"][0])"
   ]
  },
  {
   "cell_type": "markdown",
   "metadata": {},
   "source": [
    "##### Creation of a new dataframe containing the summarised data"
   ]
  },
  {
   "cell_type": "code",
   "execution_count": 192,
   "metadata": {},
   "outputs": [],
   "source": [
    "pay_additionals = pd.DataFrame({'order_id' : duplicate_payments, \n",
    "                                'payment_sequential' : payment_sequential, \n",
    "                                'payment_type' : payment_type,\n",
    "                                'payment_installments' : payment_installments, \n",
    "                                'payment_value' : payment_value})"
   ]
  },
  {
   "cell_type": "code",
   "execution_count": 193,
   "metadata": {},
   "outputs": [
    {
     "data": {
      "text/html": [
       "<div>\n",
       "<style scoped>\n",
       "    .dataframe tbody tr th:only-of-type {\n",
       "        vertical-align: middle;\n",
       "    }\n",
       "\n",
       "    .dataframe tbody tr th {\n",
       "        vertical-align: top;\n",
       "    }\n",
       "\n",
       "    .dataframe thead th {\n",
       "        text-align: right;\n",
       "    }\n",
       "</style>\n",
       "<table border=\"1\" class=\"dataframe\">\n",
       "  <thead>\n",
       "    <tr style=\"text-align: right;\">\n",
       "      <th></th>\n",
       "      <th>order_id</th>\n",
       "      <th>payment_sequential</th>\n",
       "      <th>payment_type</th>\n",
       "      <th>payment_installments</th>\n",
       "      <th>payment_value</th>\n",
       "    </tr>\n",
       "  </thead>\n",
       "  <tbody>\n",
       "    <tr>\n",
       "      <th>0</th>\n",
       "      <td>fa65dad1b0e818e3ccc5cb0e39231352</td>\n",
       "      <td>29</td>\n",
       "      <td>voucher</td>\n",
       "      <td>1.0</td>\n",
       "      <td>457.99</td>\n",
       "    </tr>\n",
       "    <tr>\n",
       "      <th>1</th>\n",
       "      <td>ccf804e764ed5650cd8759557269dc13</td>\n",
       "      <td>26</td>\n",
       "      <td>voucher</td>\n",
       "      <td>1.0</td>\n",
       "      <td>62.68</td>\n",
       "    </tr>\n",
       "    <tr>\n",
       "      <th>2</th>\n",
       "      <td>285c2e15bebd4ac83635ccc563dc71f4</td>\n",
       "      <td>22</td>\n",
       "      <td>voucher</td>\n",
       "      <td>1.0</td>\n",
       "      <td>40.85</td>\n",
       "    </tr>\n",
       "    <tr>\n",
       "      <th>3</th>\n",
       "      <td>895ab968e7bb0d5659d16cd74cd1650c</td>\n",
       "      <td>21</td>\n",
       "      <td>voucher</td>\n",
       "      <td>1.0</td>\n",
       "      <td>161.32</td>\n",
       "    </tr>\n",
       "    <tr>\n",
       "      <th>4</th>\n",
       "      <td>fedcd9f7ccdc8cba3a18defedd1a5547</td>\n",
       "      <td>19</td>\n",
       "      <td>voucher</td>\n",
       "      <td>1.0</td>\n",
       "      <td>205.74</td>\n",
       "    </tr>\n",
       "  </tbody>\n",
       "</table>\n",
       "</div>"
      ],
      "text/plain": [
       "                           order_id  payment_sequential payment_type  \\\n",
       "0  fa65dad1b0e818e3ccc5cb0e39231352                  29      voucher   \n",
       "1  ccf804e764ed5650cd8759557269dc13                  26      voucher   \n",
       "2  285c2e15bebd4ac83635ccc563dc71f4                  22      voucher   \n",
       "3  895ab968e7bb0d5659d16cd74cd1650c                  21      voucher   \n",
       "4  fedcd9f7ccdc8cba3a18defedd1a5547                  19      voucher   \n",
       "\n",
       "   payment_installments  payment_value  \n",
       "0                   1.0         457.99  \n",
       "1                   1.0          62.68  \n",
       "2                   1.0          40.85  \n",
       "3                   1.0         161.32  \n",
       "4                   1.0         205.74  "
      ]
     },
     "execution_count": 193,
     "metadata": {},
     "output_type": "execute_result"
    }
   ],
   "source": [
    "pay_additionals.head()"
   ]
  },
  {
   "cell_type": "markdown",
   "metadata": {},
   "source": [
    "##### Combine with original data"
   ]
  },
  {
   "cell_type": "code",
   "execution_count": 143,
   "metadata": {},
   "outputs": [],
   "source": [
    "final_pay = pay_additionals.append(pay)"
   ]
  },
  {
   "cell_type": "markdown",
   "metadata": {},
   "source": [
    "##### Drop duplicates, keeping first, which are the new summarised rows"
   ]
  },
  {
   "cell_type": "code",
   "execution_count": 144,
   "metadata": {},
   "outputs": [],
   "source": [
    "final_pay.drop_duplicates(subset='order_id', inplace=True)"
   ]
  },
  {
   "cell_type": "code",
   "execution_count": 145,
   "metadata": {},
   "outputs": [
    {
     "data": {
      "text/plain": [
       "(99440, 5)"
      ]
     },
     "execution_count": 145,
     "metadata": {},
     "output_type": "execute_result"
    }
   ],
   "source": [
    "final_pay.shape"
   ]
  },
  {
   "cell_type": "code",
   "execution_count": 146,
   "metadata": {},
   "outputs": [],
   "source": [
    "df = df.merge(final_pay, how='left', on='order_id')"
   ]
  },
  {
   "cell_type": "code",
   "execution_count": 147,
   "metadata": {},
   "outputs": [
    {
     "data": {
      "text/plain": [
       "(112650, 33)"
      ]
     },
     "execution_count": 147,
     "metadata": {},
     "output_type": "execute_result"
    }
   ],
   "source": [
    "df.shape"
   ]
  },
  {
   "cell_type": "markdown",
   "metadata": {},
   "source": [
    "##### Creation of a list of order_ids where there are several reviews for the order"
   ]
  },
  {
   "cell_type": "code",
   "execution_count": 148,
   "metadata": {},
   "outputs": [],
   "source": [
    "duplicate_orders_rev = duplicate_list(reviews,'order_id')"
   ]
  },
  {
   "cell_type": "code",
   "execution_count": 194,
   "metadata": {},
   "outputs": [],
   "source": [
    "# sum(reviews_order_vc[reviews_order_vc>1]) \n",
    "# returned 1114"
   ]
  },
  {
   "cell_type": "code",
   "execution_count": 195,
   "metadata": {},
   "outputs": [
    {
     "data": {
      "text/plain": [
       "555"
      ]
     },
     "execution_count": 195,
     "metadata": {},
     "output_type": "execute_result"
    }
   ],
   "source": [
    "len(duplicate_orders_rev)"
   ]
  },
  {
   "cell_type": "markdown",
   "metadata": {},
   "source": [
    "##### 1114 review ids across 55 order ids"
   ]
  },
  {
   "cell_type": "markdown",
   "metadata": {},
   "source": [
    "##### Investigation of a few of these order numbers to see what's going on"
   ]
  },
  {
   "cell_type": "code",
   "execution_count": 153,
   "metadata": {},
   "outputs": [
    {
     "data": {
      "text/html": [
       "<div>\n",
       "<style scoped>\n",
       "    .dataframe tbody tr th:only-of-type {\n",
       "        vertical-align: middle;\n",
       "    }\n",
       "\n",
       "    .dataframe tbody tr th {\n",
       "        vertical-align: top;\n",
       "    }\n",
       "\n",
       "    .dataframe thead th {\n",
       "        text-align: right;\n",
       "    }\n",
       "</style>\n",
       "<table border=\"1\" class=\"dataframe\">\n",
       "  <thead>\n",
       "    <tr style=\"text-align: right;\">\n",
       "      <th></th>\n",
       "      <th>review_id</th>\n",
       "      <th>order_id</th>\n",
       "      <th>review_score</th>\n",
       "      <th>review_comment_title</th>\n",
       "      <th>review_comment_message</th>\n",
       "      <th>review_creation_date</th>\n",
       "      <th>review_answer_timestamp</th>\n",
       "    </tr>\n",
       "  </thead>\n",
       "  <tbody>\n",
       "    <tr>\n",
       "      <th>1997</th>\n",
       "      <td>ffb8cff872a625632ac983eb1f88843c</td>\n",
       "      <td>c88b1d1b157a9999ce368f218a407141</td>\n",
       "      <td>3</td>\n",
       "      <td>NaN</td>\n",
       "      <td>NaN</td>\n",
       "      <td>2017-07-22 00:00:00</td>\n",
       "      <td>2017-07-26 13:41:07</td>\n",
       "    </tr>\n",
       "    <tr>\n",
       "      <th>83187</th>\n",
       "      <td>202b5f44d09cd3cfc0d6bd12f01b044c</td>\n",
       "      <td>c88b1d1b157a9999ce368f218a407141</td>\n",
       "      <td>5</td>\n",
       "      <td>NaN</td>\n",
       "      <td>NaN</td>\n",
       "      <td>2017-07-22 00:00:00</td>\n",
       "      <td>2017-07-26 13:40:22</td>\n",
       "    </tr>\n",
       "    <tr>\n",
       "      <th>90069</th>\n",
       "      <td>fb96ea2ef8cce1c888f4d45c8e22b793</td>\n",
       "      <td>c88b1d1b157a9999ce368f218a407141</td>\n",
       "      <td>5</td>\n",
       "      <td>NaN</td>\n",
       "      <td>NaN</td>\n",
       "      <td>2017-07-21 00:00:00</td>\n",
       "      <td>2017-07-26 13:45:15</td>\n",
       "    </tr>\n",
       "  </tbody>\n",
       "</table>\n",
       "</div>"
      ],
      "text/plain": [
       "                              review_id                          order_id  \\\n",
       "1997   ffb8cff872a625632ac983eb1f88843c  c88b1d1b157a9999ce368f218a407141   \n",
       "83187  202b5f44d09cd3cfc0d6bd12f01b044c  c88b1d1b157a9999ce368f218a407141   \n",
       "90069  fb96ea2ef8cce1c888f4d45c8e22b793  c88b1d1b157a9999ce368f218a407141   \n",
       "\n",
       "       review_score review_comment_title review_comment_message  \\\n",
       "1997              3                  NaN                    NaN   \n",
       "83187             5                  NaN                    NaN   \n",
       "90069             5                  NaN                    NaN   \n",
       "\n",
       "      review_creation_date review_answer_timestamp  \n",
       "1997   2017-07-22 00:00:00     2017-07-26 13:41:07  \n",
       "83187  2017-07-22 00:00:00     2017-07-26 13:40:22  \n",
       "90069  2017-07-21 00:00:00     2017-07-26 13:45:15  "
      ]
     },
     "execution_count": 153,
     "metadata": {},
     "output_type": "execute_result"
    }
   ],
   "source": [
    "reviews[reviews['order_id'] == 'c88b1d1b157a9999ce368f218a407141']"
   ]
  },
  {
   "cell_type": "code",
   "execution_count": 154,
   "metadata": {},
   "outputs": [
    {
     "data": {
      "text/html": [
       "<div>\n",
       "<style scoped>\n",
       "    .dataframe tbody tr th:only-of-type {\n",
       "        vertical-align: middle;\n",
       "    }\n",
       "\n",
       "    .dataframe tbody tr th {\n",
       "        vertical-align: top;\n",
       "    }\n",
       "\n",
       "    .dataframe thead th {\n",
       "        text-align: right;\n",
       "    }\n",
       "</style>\n",
       "<table border=\"1\" class=\"dataframe\">\n",
       "  <thead>\n",
       "    <tr style=\"text-align: right;\">\n",
       "      <th></th>\n",
       "      <th>order_id</th>\n",
       "      <th>order_item_id</th>\n",
       "      <th>product_id</th>\n",
       "      <th>seller_id</th>\n",
       "      <th>shipping_limit_date</th>\n",
       "      <th>price</th>\n",
       "      <th>freight_value</th>\n",
       "      <th>customer_id</th>\n",
       "      <th>order_status</th>\n",
       "      <th>order_purchase_timestamp</th>\n",
       "      <th>...</th>\n",
       "      <th>seller_city</th>\n",
       "      <th>seller_state</th>\n",
       "      <th>customer_unique_id</th>\n",
       "      <th>customer_zip_code_prefix</th>\n",
       "      <th>customer_city</th>\n",
       "      <th>customer_state</th>\n",
       "      <th>payment_sequential</th>\n",
       "      <th>payment_type</th>\n",
       "      <th>payment_installments</th>\n",
       "      <th>payment_value</th>\n",
       "    </tr>\n",
       "  </thead>\n",
       "  <tbody>\n",
       "    <tr>\n",
       "      <th>88316</th>\n",
       "      <td>c88b1d1b157a9999ce368f218a407141</td>\n",
       "      <td>1</td>\n",
       "      <td>b1acb7e8152c90c9619897753a75c973</td>\n",
       "      <td>cc419e0650a3c5ba77189a1882b7556a</td>\n",
       "      <td>2017-07-26 22:50:12</td>\n",
       "      <td>34.99</td>\n",
       "      <td>7.78</td>\n",
       "      <td>ae0fb7b01c548c4fd30f19f55453ec4a</td>\n",
       "      <td>delivered</td>\n",
       "      <td>2017-07-17 22:44:23</td>\n",
       "      <td>...</td>\n",
       "      <td>santo andre</td>\n",
       "      <td>SP</td>\n",
       "      <td>b64ebaf3d11b7209fe566364cc359a51</td>\n",
       "      <td>9690</td>\n",
       "      <td>sao bernardo do campo</td>\n",
       "      <td>SP</td>\n",
       "      <td>1.0</td>\n",
       "      <td>credit_card</td>\n",
       "      <td>4.0</td>\n",
       "      <td>42.77</td>\n",
       "    </tr>\n",
       "  </tbody>\n",
       "</table>\n",
       "<p>1 rows × 33 columns</p>\n",
       "</div>"
      ],
      "text/plain": [
       "                               order_id  order_item_id  \\\n",
       "88316  c88b1d1b157a9999ce368f218a407141              1   \n",
       "\n",
       "                             product_id                         seller_id  \\\n",
       "88316  b1acb7e8152c90c9619897753a75c973  cc419e0650a3c5ba77189a1882b7556a   \n",
       "\n",
       "       shipping_limit_date  price  freight_value  \\\n",
       "88316  2017-07-26 22:50:12  34.99           7.78   \n",
       "\n",
       "                            customer_id order_status order_purchase_timestamp  \\\n",
       "88316  ae0fb7b01c548c4fd30f19f55453ec4a    delivered      2017-07-17 22:44:23   \n",
       "\n",
       "       ...  seller_city seller_state                customer_unique_id  \\\n",
       "88316  ...  santo andre           SP  b64ebaf3d11b7209fe566364cc359a51   \n",
       "\n",
       "      customer_zip_code_prefix          customer_city  customer_state  \\\n",
       "88316                     9690  sao bernardo do campo              SP   \n",
       "\n",
       "       payment_sequential  payment_type  payment_installments  payment_value  \n",
       "88316                 1.0   credit_card                   4.0          42.77  \n",
       "\n",
       "[1 rows x 33 columns]"
      ]
     },
     "execution_count": 154,
     "metadata": {},
     "output_type": "execute_result"
    }
   ],
   "source": [
    "df[df['order_id'] == 'c88b1d1b157a9999ce368f218a407141']"
   ]
  },
  {
   "cell_type": "code",
   "execution_count": 155,
   "metadata": {},
   "outputs": [
    {
     "data": {
      "text/html": [
       "<div>\n",
       "<style scoped>\n",
       "    .dataframe tbody tr th:only-of-type {\n",
       "        vertical-align: middle;\n",
       "    }\n",
       "\n",
       "    .dataframe tbody tr th {\n",
       "        vertical-align: top;\n",
       "    }\n",
       "\n",
       "    .dataframe thead th {\n",
       "        text-align: right;\n",
       "    }\n",
       "</style>\n",
       "<table border=\"1\" class=\"dataframe\">\n",
       "  <thead>\n",
       "    <tr style=\"text-align: right;\">\n",
       "      <th></th>\n",
       "      <th>review_id</th>\n",
       "      <th>order_id</th>\n",
       "      <th>review_score</th>\n",
       "      <th>review_comment_title</th>\n",
       "      <th>review_comment_message</th>\n",
       "      <th>review_creation_date</th>\n",
       "      <th>review_answer_timestamp</th>\n",
       "    </tr>\n",
       "  </thead>\n",
       "  <tbody>\n",
       "    <tr>\n",
       "      <th>2970</th>\n",
       "      <td>c444278834184f72b1484dfe47de7f97</td>\n",
       "      <td>df56136b8031ecd28e200bb18e6ddb2e</td>\n",
       "      <td>5</td>\n",
       "      <td>NaN</td>\n",
       "      <td>NaN</td>\n",
       "      <td>2017-02-08 00:00:00</td>\n",
       "      <td>2017-02-14 13:58:48</td>\n",
       "    </tr>\n",
       "    <tr>\n",
       "      <th>14084</th>\n",
       "      <td>72a1098d5b410ae50fbc0509d26daeb9</td>\n",
       "      <td>df56136b8031ecd28e200bb18e6ddb2e</td>\n",
       "      <td>5</td>\n",
       "      <td>NaN</td>\n",
       "      <td>NaN</td>\n",
       "      <td>2017-02-07 00:00:00</td>\n",
       "      <td>2017-02-10 10:46:09</td>\n",
       "    </tr>\n",
       "    <tr>\n",
       "      <th>63225</th>\n",
       "      <td>44f3e54834d23c5570c1d010824d4d59</td>\n",
       "      <td>df56136b8031ecd28e200bb18e6ddb2e</td>\n",
       "      <td>5</td>\n",
       "      <td>NaN</td>\n",
       "      <td>NaN</td>\n",
       "      <td>2017-02-09 00:00:00</td>\n",
       "      <td>2017-02-09 09:07:28</td>\n",
       "    </tr>\n",
       "  </tbody>\n",
       "</table>\n",
       "</div>"
      ],
      "text/plain": [
       "                              review_id                          order_id  \\\n",
       "2970   c444278834184f72b1484dfe47de7f97  df56136b8031ecd28e200bb18e6ddb2e   \n",
       "14084  72a1098d5b410ae50fbc0509d26daeb9  df56136b8031ecd28e200bb18e6ddb2e   \n",
       "63225  44f3e54834d23c5570c1d010824d4d59  df56136b8031ecd28e200bb18e6ddb2e   \n",
       "\n",
       "       review_score review_comment_title review_comment_message  \\\n",
       "2970              5                  NaN                    NaN   \n",
       "14084             5                  NaN                    NaN   \n",
       "63225             5                  NaN                    NaN   \n",
       "\n",
       "      review_creation_date review_answer_timestamp  \n",
       "2970   2017-02-08 00:00:00     2017-02-14 13:58:48  \n",
       "14084  2017-02-07 00:00:00     2017-02-10 10:46:09  \n",
       "63225  2017-02-09 00:00:00     2017-02-09 09:07:28  "
      ]
     },
     "execution_count": 155,
     "metadata": {},
     "output_type": "execute_result"
    }
   ],
   "source": [
    "reviews[reviews['order_id'] == 'df56136b8031ecd28e200bb18e6ddb2e']\n"
   ]
  },
  {
   "cell_type": "code",
   "execution_count": 156,
   "metadata": {},
   "outputs": [
    {
     "data": {
      "text/html": [
       "<div>\n",
       "<style scoped>\n",
       "    .dataframe tbody tr th:only-of-type {\n",
       "        vertical-align: middle;\n",
       "    }\n",
       "\n",
       "    .dataframe tbody tr th {\n",
       "        vertical-align: top;\n",
       "    }\n",
       "\n",
       "    .dataframe thead th {\n",
       "        text-align: right;\n",
       "    }\n",
       "</style>\n",
       "<table border=\"1\" class=\"dataframe\">\n",
       "  <thead>\n",
       "    <tr style=\"text-align: right;\">\n",
       "      <th></th>\n",
       "      <th>98466</th>\n",
       "      <th>98467</th>\n",
       "      <th>98468</th>\n",
       "    </tr>\n",
       "  </thead>\n",
       "  <tbody>\n",
       "    <tr>\n",
       "      <th>order_id</th>\n",
       "      <td>df56136b8031ecd28e200bb18e6ddb2e</td>\n",
       "      <td>df56136b8031ecd28e200bb18e6ddb2e</td>\n",
       "      <td>df56136b8031ecd28e200bb18e6ddb2e</td>\n",
       "    </tr>\n",
       "    <tr>\n",
       "      <th>order_item_id</th>\n",
       "      <td>1</td>\n",
       "      <td>2</td>\n",
       "      <td>3</td>\n",
       "    </tr>\n",
       "    <tr>\n",
       "      <th>product_id</th>\n",
       "      <td>f28cbd414cd06f1ae84065c8dd8be834</td>\n",
       "      <td>50aa8f292a9510d5542f2a078903a2a7</td>\n",
       "      <td>3025303c80b01a0926fda2841cc31b4a</td>\n",
       "    </tr>\n",
       "    <tr>\n",
       "      <th>seller_id</th>\n",
       "      <td>4da0e408c99d2fdc2126dc9fce518060</td>\n",
       "      <td>834f8533b2ecb6598dd004ff3de7203a</td>\n",
       "      <td>4da0e408c99d2fdc2126dc9fce518060</td>\n",
       "    </tr>\n",
       "    <tr>\n",
       "      <th>shipping_limit_date</th>\n",
       "      <td>2017-01-30 13:15:41</td>\n",
       "      <td>2017-01-30 13:15:41</td>\n",
       "      <td>2017-01-30 13:15:41</td>\n",
       "    </tr>\n",
       "    <tr>\n",
       "      <th>price</th>\n",
       "      <td>23.9</td>\n",
       "      <td>63.92</td>\n",
       "      <td>66.9</td>\n",
       "    </tr>\n",
       "    <tr>\n",
       "      <th>freight_value</th>\n",
       "      <td>2.53</td>\n",
       "      <td>15.82</td>\n",
       "      <td>31.65</td>\n",
       "    </tr>\n",
       "    <tr>\n",
       "      <th>customer_id</th>\n",
       "      <td>b7770073b02ed1d626a027ce86a4ff82</td>\n",
       "      <td>b7770073b02ed1d626a027ce86a4ff82</td>\n",
       "      <td>b7770073b02ed1d626a027ce86a4ff82</td>\n",
       "    </tr>\n",
       "    <tr>\n",
       "      <th>order_status</th>\n",
       "      <td>delivered</td>\n",
       "      <td>delivered</td>\n",
       "      <td>delivered</td>\n",
       "    </tr>\n",
       "    <tr>\n",
       "      <th>order_purchase_timestamp</th>\n",
       "      <td>2017-01-26 13:15:41</td>\n",
       "      <td>2017-01-26 13:15:41</td>\n",
       "      <td>2017-01-26 13:15:41</td>\n",
       "    </tr>\n",
       "    <tr>\n",
       "      <th>order_approved_at</th>\n",
       "      <td>2017-01-27 03:05:27</td>\n",
       "      <td>2017-01-27 03:05:27</td>\n",
       "      <td>2017-01-27 03:05:27</td>\n",
       "    </tr>\n",
       "    <tr>\n",
       "      <th>order_delivered_carrier_date</th>\n",
       "      <td>2017-01-31 19:44:07</td>\n",
       "      <td>2017-01-31 19:44:07</td>\n",
       "      <td>2017-01-31 19:44:07</td>\n",
       "    </tr>\n",
       "    <tr>\n",
       "      <th>order_delivered_customer_date</th>\n",
       "      <td>2017-02-06 09:52:10</td>\n",
       "      <td>2017-02-06 09:52:10</td>\n",
       "      <td>2017-02-06 09:52:10</td>\n",
       "    </tr>\n",
       "    <tr>\n",
       "      <th>order_estimated_delivery_date</th>\n",
       "      <td>2017-03-23 00:00:00</td>\n",
       "      <td>2017-03-23 00:00:00</td>\n",
       "      <td>2017-03-23 00:00:00</td>\n",
       "    </tr>\n",
       "    <tr>\n",
       "      <th>product_name_lenght</th>\n",
       "      <td>60</td>\n",
       "      <td>49</td>\n",
       "      <td>56</td>\n",
       "    </tr>\n",
       "    <tr>\n",
       "      <th>product_description_lenght</th>\n",
       "      <td>806</td>\n",
       "      <td>1141</td>\n",
       "      <td>222</td>\n",
       "    </tr>\n",
       "    <tr>\n",
       "      <th>product_photos_qty</th>\n",
       "      <td>1</td>\n",
       "      <td>2</td>\n",
       "      <td>2</td>\n",
       "    </tr>\n",
       "    <tr>\n",
       "      <th>product_weight_g</th>\n",
       "      <td>700</td>\n",
       "      <td>400</td>\n",
       "      <td>2100</td>\n",
       "    </tr>\n",
       "    <tr>\n",
       "      <th>product_length_cm</th>\n",
       "      <td>20</td>\n",
       "      <td>19</td>\n",
       "      <td>40</td>\n",
       "    </tr>\n",
       "    <tr>\n",
       "      <th>product_height_cm</th>\n",
       "      <td>12</td>\n",
       "      <td>11</td>\n",
       "      <td>25</td>\n",
       "    </tr>\n",
       "    <tr>\n",
       "      <th>product_width_cm</th>\n",
       "      <td>16</td>\n",
       "      <td>37</td>\n",
       "      <td>28</td>\n",
       "    </tr>\n",
       "    <tr>\n",
       "      <th>product_category_name_english</th>\n",
       "      <td>sports_leisure</td>\n",
       "      <td>sports_leisure</td>\n",
       "      <td>sports_leisure</td>\n",
       "    </tr>\n",
       "    <tr>\n",
       "      <th>seller_zip_code_prefix</th>\n",
       "      <td>86300</td>\n",
       "      <td>5181</td>\n",
       "      <td>86300</td>\n",
       "    </tr>\n",
       "    <tr>\n",
       "      <th>seller_city</th>\n",
       "      <td>cornelio procopio</td>\n",
       "      <td>sao paulo</td>\n",
       "      <td>cornelio procopio</td>\n",
       "    </tr>\n",
       "    <tr>\n",
       "      <th>seller_state</th>\n",
       "      <td>PR</td>\n",
       "      <td>SP</td>\n",
       "      <td>PR</td>\n",
       "    </tr>\n",
       "    <tr>\n",
       "      <th>customer_unique_id</th>\n",
       "      <td>2e43e031f10de28e557c35ef668f9396</td>\n",
       "      <td>2e43e031f10de28e557c35ef668f9396</td>\n",
       "      <td>2e43e031f10de28e557c35ef668f9396</td>\n",
       "    </tr>\n",
       "    <tr>\n",
       "      <th>customer_zip_code_prefix</th>\n",
       "      <td>92410</td>\n",
       "      <td>92410</td>\n",
       "      <td>92410</td>\n",
       "    </tr>\n",
       "    <tr>\n",
       "      <th>customer_city</th>\n",
       "      <td>canoas</td>\n",
       "      <td>canoas</td>\n",
       "      <td>canoas</td>\n",
       "    </tr>\n",
       "    <tr>\n",
       "      <th>customer_state</th>\n",
       "      <td>RS</td>\n",
       "      <td>RS</td>\n",
       "      <td>RS</td>\n",
       "    </tr>\n",
       "    <tr>\n",
       "      <th>payment_sequential</th>\n",
       "      <td>1</td>\n",
       "      <td>1</td>\n",
       "      <td>1</td>\n",
       "    </tr>\n",
       "    <tr>\n",
       "      <th>payment_type</th>\n",
       "      <td>boleto</td>\n",
       "      <td>boleto</td>\n",
       "      <td>boleto</td>\n",
       "    </tr>\n",
       "    <tr>\n",
       "      <th>payment_installments</th>\n",
       "      <td>1</td>\n",
       "      <td>1</td>\n",
       "      <td>1</td>\n",
       "    </tr>\n",
       "    <tr>\n",
       "      <th>payment_value</th>\n",
       "      <td>204.72</td>\n",
       "      <td>204.72</td>\n",
       "      <td>204.72</td>\n",
       "    </tr>\n",
       "  </tbody>\n",
       "</table>\n",
       "</div>"
      ],
      "text/plain": [
       "                                                          98466  \\\n",
       "order_id                       df56136b8031ecd28e200bb18e6ddb2e   \n",
       "order_item_id                                                 1   \n",
       "product_id                     f28cbd414cd06f1ae84065c8dd8be834   \n",
       "seller_id                      4da0e408c99d2fdc2126dc9fce518060   \n",
       "shipping_limit_date                         2017-01-30 13:15:41   \n",
       "price                                                      23.9   \n",
       "freight_value                                              2.53   \n",
       "customer_id                    b7770073b02ed1d626a027ce86a4ff82   \n",
       "order_status                                          delivered   \n",
       "order_purchase_timestamp                    2017-01-26 13:15:41   \n",
       "order_approved_at                           2017-01-27 03:05:27   \n",
       "order_delivered_carrier_date                2017-01-31 19:44:07   \n",
       "order_delivered_customer_date               2017-02-06 09:52:10   \n",
       "order_estimated_delivery_date               2017-03-23 00:00:00   \n",
       "product_name_lenght                                          60   \n",
       "product_description_lenght                                  806   \n",
       "product_photos_qty                                            1   \n",
       "product_weight_g                                            700   \n",
       "product_length_cm                                            20   \n",
       "product_height_cm                                            12   \n",
       "product_width_cm                                             16   \n",
       "product_category_name_english                    sports_leisure   \n",
       "seller_zip_code_prefix                                    86300   \n",
       "seller_city                                   cornelio procopio   \n",
       "seller_state                                                 PR   \n",
       "customer_unique_id             2e43e031f10de28e557c35ef668f9396   \n",
       "customer_zip_code_prefix                                  92410   \n",
       "customer_city                                            canoas   \n",
       "customer_state                                               RS   \n",
       "payment_sequential                                            1   \n",
       "payment_type                                             boleto   \n",
       "payment_installments                                          1   \n",
       "payment_value                                            204.72   \n",
       "\n",
       "                                                          98467  \\\n",
       "order_id                       df56136b8031ecd28e200bb18e6ddb2e   \n",
       "order_item_id                                                 2   \n",
       "product_id                     50aa8f292a9510d5542f2a078903a2a7   \n",
       "seller_id                      834f8533b2ecb6598dd004ff3de7203a   \n",
       "shipping_limit_date                         2017-01-30 13:15:41   \n",
       "price                                                     63.92   \n",
       "freight_value                                             15.82   \n",
       "customer_id                    b7770073b02ed1d626a027ce86a4ff82   \n",
       "order_status                                          delivered   \n",
       "order_purchase_timestamp                    2017-01-26 13:15:41   \n",
       "order_approved_at                           2017-01-27 03:05:27   \n",
       "order_delivered_carrier_date                2017-01-31 19:44:07   \n",
       "order_delivered_customer_date               2017-02-06 09:52:10   \n",
       "order_estimated_delivery_date               2017-03-23 00:00:00   \n",
       "product_name_lenght                                          49   \n",
       "product_description_lenght                                 1141   \n",
       "product_photos_qty                                            2   \n",
       "product_weight_g                                            400   \n",
       "product_length_cm                                            19   \n",
       "product_height_cm                                            11   \n",
       "product_width_cm                                             37   \n",
       "product_category_name_english                    sports_leisure   \n",
       "seller_zip_code_prefix                                     5181   \n",
       "seller_city                                           sao paulo   \n",
       "seller_state                                                 SP   \n",
       "customer_unique_id             2e43e031f10de28e557c35ef668f9396   \n",
       "customer_zip_code_prefix                                  92410   \n",
       "customer_city                                            canoas   \n",
       "customer_state                                               RS   \n",
       "payment_sequential                                            1   \n",
       "payment_type                                             boleto   \n",
       "payment_installments                                          1   \n",
       "payment_value                                            204.72   \n",
       "\n",
       "                                                          98468  \n",
       "order_id                       df56136b8031ecd28e200bb18e6ddb2e  \n",
       "order_item_id                                                 3  \n",
       "product_id                     3025303c80b01a0926fda2841cc31b4a  \n",
       "seller_id                      4da0e408c99d2fdc2126dc9fce518060  \n",
       "shipping_limit_date                         2017-01-30 13:15:41  \n",
       "price                                                      66.9  \n",
       "freight_value                                             31.65  \n",
       "customer_id                    b7770073b02ed1d626a027ce86a4ff82  \n",
       "order_status                                          delivered  \n",
       "order_purchase_timestamp                    2017-01-26 13:15:41  \n",
       "order_approved_at                           2017-01-27 03:05:27  \n",
       "order_delivered_carrier_date                2017-01-31 19:44:07  \n",
       "order_delivered_customer_date               2017-02-06 09:52:10  \n",
       "order_estimated_delivery_date               2017-03-23 00:00:00  \n",
       "product_name_lenght                                          56  \n",
       "product_description_lenght                                  222  \n",
       "product_photos_qty                                            2  \n",
       "product_weight_g                                           2100  \n",
       "product_length_cm                                            40  \n",
       "product_height_cm                                            25  \n",
       "product_width_cm                                             28  \n",
       "product_category_name_english                    sports_leisure  \n",
       "seller_zip_code_prefix                                    86300  \n",
       "seller_city                                   cornelio procopio  \n",
       "seller_state                                                 PR  \n",
       "customer_unique_id             2e43e031f10de28e557c35ef668f9396  \n",
       "customer_zip_code_prefix                                  92410  \n",
       "customer_city                                            canoas  \n",
       "customer_state                                               RS  \n",
       "payment_sequential                                            1  \n",
       "payment_type                                             boleto  \n",
       "payment_installments                                          1  \n",
       "payment_value                                            204.72  "
      ]
     },
     "execution_count": 156,
     "metadata": {},
     "output_type": "execute_result"
    }
   ],
   "source": [
    "df[df['order_id'] == 'df56136b8031ecd28e200bb18e6ddb2e'].T"
   ]
  },
  {
   "cell_type": "markdown",
   "metadata": {},
   "source": [
    "##### Upon visual inspection it seems there are cases where there are only one item for several reviews but also when there are equal ordered items as there are reviews. However, there is no real connection between the review and the item being reviewed so it is hard to know exactly which review relates to what. I would like to check out the frequency of the review number mathching the item number\n"
   ]
  },
  {
   "cell_type": "code",
   "execution_count": 196,
   "metadata": {},
   "outputs": [],
   "source": [
    "#iterates through the duplicate order numbers and counts how many items there are against each\n",
    "item_counts = []\n",
    "for n in duplicate_orders_rev:\n",
    "    item_counts.append(len(df[df['order_id'] == n]))"
   ]
  },
  {
   "cell_type": "code",
   "execution_count": 197,
   "metadata": {},
   "outputs": [
    {
     "data": {
      "text/plain": [
       "(array([480.,  56.,  10.,   6.,   0.,   2.,   0.,   0.,   0.,   1.]),\n",
       " array([ 0. ,  1.1,  2.2,  3.3,  4.4,  5.5,  6.6,  7.7,  8.8,  9.9, 11. ]),\n",
       " <a list of 10 Patch objects>)"
      ]
     },
     "execution_count": 197,
     "metadata": {},
     "output_type": "execute_result"
    },
    {
     "data": {
      "image/png": "[encoded data removed]",
      "text/plain": [
       "<Figure size 432x288 with 1 Axes>"
      ]
     },
     "metadata": {
      "image/png": {
       "height": 266,
       "width": 413
      }
     },
     "output_type": "display_data"
    }
   ],
   "source": [
    "plt.hist(item_counts)"
   ]
  },
  {
   "cell_type": "markdown",
   "metadata": {},
   "source": [
    "##### From this histogram it is clear that these duplicate reviews are not related to specific items within orders so I will drop them from the reviews dataframe"
   ]
  },
  {
   "cell_type": "code",
   "execution_count": 162,
   "metadata": {},
   "outputs": [],
   "source": [
    "reviews.drop_duplicates(subset=(['order_id']),keep=False, inplace =True)"
   ]
  },
  {
   "cell_type": "code",
   "execution_count": 163,
   "metadata": {},
   "outputs": [
    {
     "data": {
      "text/plain": [
       "(98886, 7)"
      ]
     },
     "execution_count": 163,
     "metadata": {},
     "output_type": "execute_result"
    }
   ],
   "source": [
    "reviews.shape"
   ]
  },
  {
   "cell_type": "code",
   "execution_count": 164,
   "metadata": {},
   "outputs": [],
   "source": [
    "#reviews where there are several orders per review\n",
    "duplicate_reviews_rev = duplicate_list(reviews,'review_id')"
   ]
  },
  {
   "cell_type": "code",
   "execution_count": 167,
   "metadata": {},
   "outputs": [
    {
     "data": {
      "text/plain": [
       "344"
      ]
     },
     "execution_count": 167,
     "metadata": {},
     "output_type": "execute_result"
    }
   ],
   "source": [
    "len(duplicate_reviews_rev)"
   ]
  },
  {
   "cell_type": "code",
   "execution_count": 168,
   "metadata": {},
   "outputs": [
    {
     "data": {
      "text/html": [
       "<div>\n",
       "<style scoped>\n",
       "    .dataframe tbody tr th:only-of-type {\n",
       "        vertical-align: middle;\n",
       "    }\n",
       "\n",
       "    .dataframe tbody tr th {\n",
       "        vertical-align: top;\n",
       "    }\n",
       "\n",
       "    .dataframe thead th {\n",
       "        text-align: right;\n",
       "    }\n",
       "</style>\n",
       "<table border=\"1\" class=\"dataframe\">\n",
       "  <thead>\n",
       "    <tr style=\"text-align: right;\">\n",
       "      <th></th>\n",
       "      <th>review_id</th>\n",
       "      <th>order_id</th>\n",
       "      <th>review_score</th>\n",
       "      <th>review_comment_title</th>\n",
       "      <th>review_comment_message</th>\n",
       "      <th>review_creation_date</th>\n",
       "      <th>review_answer_timestamp</th>\n",
       "    </tr>\n",
       "  </thead>\n",
       "  <tbody>\n",
       "    <tr>\n",
       "      <th>7292</th>\n",
       "      <td>e44840754f12fad2b8646712121b349a</td>\n",
       "      <td>fb265b2dc558a56445dfc48f8224e201</td>\n",
       "      <td>4</td>\n",
       "      <td>NaN</td>\n",
       "      <td>NaN</td>\n",
       "      <td>2017-11-01 00:00:00</td>\n",
       "      <td>2017-11-02 00:11:06</td>\n",
       "    </tr>\n",
       "    <tr>\n",
       "      <th>48620</th>\n",
       "      <td>e44840754f12fad2b8646712121b349a</td>\n",
       "      <td>57cc72d3e635bf57199d76328279b875</td>\n",
       "      <td>4</td>\n",
       "      <td>NaN</td>\n",
       "      <td>NaN</td>\n",
       "      <td>2017-11-01 00:00:00</td>\n",
       "      <td>2017-11-02 00:11:06</td>\n",
       "    </tr>\n",
       "    <tr>\n",
       "      <th>91272</th>\n",
       "      <td>e44840754f12fad2b8646712121b349a</td>\n",
       "      <td>6ceabf34d230c31f161988dd2ff8fa92</td>\n",
       "      <td>4</td>\n",
       "      <td>NaN</td>\n",
       "      <td>NaN</td>\n",
       "      <td>2017-11-01 00:00:00</td>\n",
       "      <td>2017-11-02 00:11:06</td>\n",
       "    </tr>\n",
       "  </tbody>\n",
       "</table>\n",
       "</div>"
      ],
      "text/plain": [
       "                              review_id                          order_id  \\\n",
       "7292   e44840754f12fad2b8646712121b349a  fb265b2dc558a56445dfc48f8224e201   \n",
       "48620  e44840754f12fad2b8646712121b349a  57cc72d3e635bf57199d76328279b875   \n",
       "91272  e44840754f12fad2b8646712121b349a  6ceabf34d230c31f161988dd2ff8fa92   \n",
       "\n",
       "       review_score review_comment_title review_comment_message  \\\n",
       "7292              4                  NaN                    NaN   \n",
       "48620             4                  NaN                    NaN   \n",
       "91272             4                  NaN                    NaN   \n",
       "\n",
       "      review_creation_date review_answer_timestamp  \n",
       "7292   2017-11-01 00:00:00     2017-11-02 00:11:06  \n",
       "48620  2017-11-01 00:00:00     2017-11-02 00:11:06  \n",
       "91272  2017-11-01 00:00:00     2017-11-02 00:11:06  "
      ]
     },
     "execution_count": 168,
     "metadata": {},
     "output_type": "execute_result"
    }
   ],
   "source": [
    "reviews[reviews['review_id'] == 'e44840754f12fad2b8646712121b349a']"
   ]
  },
  {
   "cell_type": "code",
   "execution_count": 169,
   "metadata": {},
   "outputs": [
    {
     "data": {
      "text/html": [
       "<div>\n",
       "<style scoped>\n",
       "    .dataframe tbody tr th:only-of-type {\n",
       "        vertical-align: middle;\n",
       "    }\n",
       "\n",
       "    .dataframe tbody tr th {\n",
       "        vertical-align: top;\n",
       "    }\n",
       "\n",
       "    .dataframe thead th {\n",
       "        text-align: right;\n",
       "    }\n",
       "</style>\n",
       "<table border=\"1\" class=\"dataframe\">\n",
       "  <thead>\n",
       "    <tr style=\"text-align: right;\">\n",
       "      <th></th>\n",
       "      <th>product_length_cm</th>\n",
       "      <th>product_height_cm</th>\n",
       "      <th>product_width_cm</th>\n",
       "      <th>product_category_name_english</th>\n",
       "      <th>seller_zip_code_prefix</th>\n",
       "      <th>seller_city</th>\n",
       "      <th>seller_state</th>\n",
       "      <th>customer_unique_id</th>\n",
       "      <th>customer_zip_code_prefix</th>\n",
       "      <th>customer_city</th>\n",
       "      <th>customer_state</th>\n",
       "      <th>payment_sequential</th>\n",
       "      <th>payment_type</th>\n",
       "      <th>payment_installments</th>\n",
       "      <th>payment_value</th>\n",
       "    </tr>\n",
       "  </thead>\n",
       "  <tbody>\n",
       "    <tr>\n",
       "      <th>110535</th>\n",
       "      <td>25.0</td>\n",
       "      <td>11.0</td>\n",
       "      <td>11.0</td>\n",
       "      <td>health_beauty</td>\n",
       "      <td>12940</td>\n",
       "      <td>atibaia</td>\n",
       "      <td>SP</td>\n",
       "      <td>f50ca6544a0ed8a52cc964e15cbe9cf9</td>\n",
       "      <td>99700</td>\n",
       "      <td>erechim</td>\n",
       "      <td>RS</td>\n",
       "      <td>2.0</td>\n",
       "      <td>credit_card</td>\n",
       "      <td>1.0</td>\n",
       "      <td>131.12</td>\n",
       "    </tr>\n",
       "  </tbody>\n",
       "</table>\n",
       "</div>"
      ],
      "text/plain": [
       "        product_length_cm  product_height_cm  product_width_cm  \\\n",
       "110535               25.0               11.0              11.0   \n",
       "\n",
       "       product_category_name_english  seller_zip_code_prefix seller_city  \\\n",
       "110535                 health_beauty                   12940     atibaia   \n",
       "\n",
       "       seller_state                customer_unique_id  \\\n",
       "110535           SP  f50ca6544a0ed8a52cc964e15cbe9cf9   \n",
       "\n",
       "        customer_zip_code_prefix customer_city customer_state  \\\n",
       "110535                     99700       erechim             RS   \n",
       "\n",
       "        payment_sequential payment_type  payment_installments  payment_value  \n",
       "110535                 2.0  credit_card                   1.0         131.12  "
      ]
     },
     "execution_count": 169,
     "metadata": {},
     "output_type": "execute_result"
    }
   ],
   "source": [
    "df[df['order_id'] == ('fb265b2dc558a56445dfc48f8224e201')].iloc[:,-15:]"
   ]
  },
  {
   "cell_type": "code",
   "execution_count": 170,
   "metadata": {},
   "outputs": [
    {
     "data": {
      "text/html": [
       "<div>\n",
       "<style scoped>\n",
       "    .dataframe tbody tr th:only-of-type {\n",
       "        vertical-align: middle;\n",
       "    }\n",
       "\n",
       "    .dataframe tbody tr th {\n",
       "        vertical-align: top;\n",
       "    }\n",
       "\n",
       "    .dataframe thead th {\n",
       "        text-align: right;\n",
       "    }\n",
       "</style>\n",
       "<table border=\"1\" class=\"dataframe\">\n",
       "  <thead>\n",
       "    <tr style=\"text-align: right;\">\n",
       "      <th></th>\n",
       "      <th>product_length_cm</th>\n",
       "      <th>product_height_cm</th>\n",
       "      <th>product_width_cm</th>\n",
       "      <th>product_category_name_english</th>\n",
       "      <th>seller_zip_code_prefix</th>\n",
       "      <th>seller_city</th>\n",
       "      <th>seller_state</th>\n",
       "      <th>customer_unique_id</th>\n",
       "      <th>customer_zip_code_prefix</th>\n",
       "      <th>customer_city</th>\n",
       "      <th>customer_state</th>\n",
       "      <th>payment_sequential</th>\n",
       "      <th>payment_type</th>\n",
       "      <th>payment_installments</th>\n",
       "      <th>payment_value</th>\n",
       "    </tr>\n",
       "  </thead>\n",
       "  <tbody>\n",
       "    <tr>\n",
       "      <th>38643</th>\n",
       "      <td>20.0</td>\n",
       "      <td>40.0</td>\n",
       "      <td>25.0</td>\n",
       "      <td>health_beauty</td>\n",
       "      <td>85853</td>\n",
       "      <td>foz do iguacu</td>\n",
       "      <td>PR</td>\n",
       "      <td>f50ca6544a0ed8a52cc964e15cbe9cf9</td>\n",
       "      <td>99700</td>\n",
       "      <td>erechim</td>\n",
       "      <td>RS</td>\n",
       "      <td>2.0</td>\n",
       "      <td>credit_card</td>\n",
       "      <td>1.0</td>\n",
       "      <td>236.49</td>\n",
       "    </tr>\n",
       "  </tbody>\n",
       "</table>\n",
       "</div>"
      ],
      "text/plain": [
       "       product_length_cm  product_height_cm  product_width_cm  \\\n",
       "38643               20.0               40.0              25.0   \n",
       "\n",
       "      product_category_name_english  seller_zip_code_prefix    seller_city  \\\n",
       "38643                 health_beauty                   85853  foz do iguacu   \n",
       "\n",
       "      seller_state                customer_unique_id  \\\n",
       "38643           PR  f50ca6544a0ed8a52cc964e15cbe9cf9   \n",
       "\n",
       "       customer_zip_code_prefix customer_city customer_state  \\\n",
       "38643                     99700       erechim             RS   \n",
       "\n",
       "       payment_sequential payment_type  payment_installments  payment_value  \n",
       "38643                 2.0  credit_card                   1.0         236.49  "
      ]
     },
     "execution_count": 170,
     "metadata": {},
     "output_type": "execute_result"
    }
   ],
   "source": [
    "df[df['order_id'] == ('57cc72d3e635bf57199d76328279b875')].iloc[:,-15:]"
   ]
  },
  {
   "cell_type": "code",
   "execution_count": 171,
   "metadata": {},
   "outputs": [
    {
     "data": {
      "text/html": [
       "<div>\n",
       "<style scoped>\n",
       "    .dataframe tbody tr th:only-of-type {\n",
       "        vertical-align: middle;\n",
       "    }\n",
       "\n",
       "    .dataframe tbody tr th {\n",
       "        vertical-align: top;\n",
       "    }\n",
       "\n",
       "    .dataframe thead th {\n",
       "        text-align: right;\n",
       "    }\n",
       "</style>\n",
       "<table border=\"1\" class=\"dataframe\">\n",
       "  <thead>\n",
       "    <tr style=\"text-align: right;\">\n",
       "      <th></th>\n",
       "      <th>product_length_cm</th>\n",
       "      <th>product_height_cm</th>\n",
       "      <th>product_width_cm</th>\n",
       "      <th>product_category_name_english</th>\n",
       "      <th>seller_zip_code_prefix</th>\n",
       "      <th>seller_city</th>\n",
       "      <th>seller_state</th>\n",
       "      <th>customer_unique_id</th>\n",
       "      <th>customer_zip_code_prefix</th>\n",
       "      <th>customer_city</th>\n",
       "      <th>customer_state</th>\n",
       "      <th>payment_sequential</th>\n",
       "      <th>payment_type</th>\n",
       "      <th>payment_installments</th>\n",
       "      <th>payment_value</th>\n",
       "    </tr>\n",
       "  </thead>\n",
       "  <tbody>\n",
       "    <tr>\n",
       "      <th>47932</th>\n",
       "      <td>62.0</td>\n",
       "      <td>43.0</td>\n",
       "      <td>56.0</td>\n",
       "      <td>baby</td>\n",
       "      <td>16304</td>\n",
       "      <td>penapolis</td>\n",
       "      <td>SP</td>\n",
       "      <td>f50ca6544a0ed8a52cc964e15cbe9cf9</td>\n",
       "      <td>99700</td>\n",
       "      <td>erechim</td>\n",
       "      <td>RS</td>\n",
       "      <td>2.0</td>\n",
       "      <td>credit_card</td>\n",
       "      <td>1.0</td>\n",
       "      <td>84.15</td>\n",
       "    </tr>\n",
       "  </tbody>\n",
       "</table>\n",
       "</div>"
      ],
      "text/plain": [
       "       product_length_cm  product_height_cm  product_width_cm  \\\n",
       "47932               62.0               43.0              56.0   \n",
       "\n",
       "      product_category_name_english  seller_zip_code_prefix seller_city  \\\n",
       "47932                          baby                   16304   penapolis   \n",
       "\n",
       "      seller_state                customer_unique_id  \\\n",
       "47932           SP  f50ca6544a0ed8a52cc964e15cbe9cf9   \n",
       "\n",
       "       customer_zip_code_prefix customer_city customer_state  \\\n",
       "47932                     99700       erechim             RS   \n",
       "\n",
       "       payment_sequential payment_type  payment_installments  payment_value  \n",
       "47932                 2.0  credit_card                   1.0          84.15  "
      ]
     },
     "execution_count": 171,
     "metadata": {},
     "output_type": "execute_result"
    }
   ],
   "source": [
    "df[df['order_id'] == ('6ceabf34d230c31f161988dd2ff8fa92')].iloc[:,-15:]"
   ]
  },
  {
   "cell_type": "markdown",
   "metadata": {},
   "source": [
    "##### For these you can see that there are muliple orders against each review but they are all from the same customer. As I am unsure why these are in existence and whether the review is for a specific item or all of them, I will drop these order ids from the main dataframe as well"
   ]
  },
  {
   "cell_type": "code",
   "execution_count": 173,
   "metadata": {},
   "outputs": [],
   "source": [
    "reviews.drop_duplicates(subset=(['review_id']),keep=False, inplace=True)"
   ]
  },
  {
   "cell_type": "code",
   "execution_count": 174,
   "metadata": {},
   "outputs": [],
   "source": [
    "df = df.merge(reviews, how='left', on='order_id')"
   ]
  },
  {
   "cell_type": "code",
   "execution_count": 175,
   "metadata": {},
   "outputs": [
    {
     "data": {
      "text/plain": [
       "(112650, 39)"
      ]
     },
     "execution_count": 175,
     "metadata": {},
     "output_type": "execute_result"
    }
   ],
   "source": [
    "df.shape"
   ]
  },
  {
   "cell_type": "code",
   "execution_count": 176,
   "metadata": {},
   "outputs": [
    {
     "data": {
      "text/html": [
       "<div>\n",
       "<style scoped>\n",
       "    .dataframe tbody tr th:only-of-type {\n",
       "        vertical-align: middle;\n",
       "    }\n",
       "\n",
       "    .dataframe tbody tr th {\n",
       "        vertical-align: top;\n",
       "    }\n",
       "\n",
       "    .dataframe thead th {\n",
       "        text-align: right;\n",
       "    }\n",
       "</style>\n",
       "<table border=\"1\" class=\"dataframe\">\n",
       "  <thead>\n",
       "    <tr style=\"text-align: right;\">\n",
       "      <th></th>\n",
       "      <th>order_id</th>\n",
       "      <th>order_item_id</th>\n",
       "      <th>product_id</th>\n",
       "      <th>seller_id</th>\n",
       "      <th>shipping_limit_date</th>\n",
       "      <th>price</th>\n",
       "      <th>freight_value</th>\n",
       "      <th>customer_id</th>\n",
       "      <th>order_status</th>\n",
       "      <th>order_purchase_timestamp</th>\n",
       "      <th>...</th>\n",
       "      <th>payment_sequential</th>\n",
       "      <th>payment_type</th>\n",
       "      <th>payment_installments</th>\n",
       "      <th>payment_value</th>\n",
       "      <th>review_id</th>\n",
       "      <th>review_score</th>\n",
       "      <th>review_comment_title</th>\n",
       "      <th>review_comment_message</th>\n",
       "      <th>review_creation_date</th>\n",
       "      <th>review_answer_timestamp</th>\n",
       "    </tr>\n",
       "  </thead>\n",
       "  <tbody>\n",
       "    <tr>\n",
       "      <th>0</th>\n",
       "      <td>00010242fe8c5a6d1ba2dd792cb16214</td>\n",
       "      <td>1</td>\n",
       "      <td>4244733e06e7ecb4970a6e2683c13e61</td>\n",
       "      <td>48436dade18ac8b2bce089ec2a041202</td>\n",
       "      <td>2017-09-19 09:45:35</td>\n",
       "      <td>58.90</td>\n",
       "      <td>13.29</td>\n",
       "      <td>3ce436f183e68e07877b285a838db11a</td>\n",
       "      <td>delivered</td>\n",
       "      <td>2017-09-13 08:59:02</td>\n",
       "      <td>...</td>\n",
       "      <td>1.0</td>\n",
       "      <td>credit_card</td>\n",
       "      <td>2.0</td>\n",
       "      <td>72.19</td>\n",
       "      <td>97ca439bc427b48bc1cd7177abe71365</td>\n",
       "      <td>5.0</td>\n",
       "      <td>NaN</td>\n",
       "      <td>Perfeito, produto entregue antes do combinado.</td>\n",
       "      <td>2017-09-21 00:00:00</td>\n",
       "      <td>2017-09-22 10:57:03</td>\n",
       "    </tr>\n",
       "    <tr>\n",
       "      <th>1</th>\n",
       "      <td>00018f77f2f0320c557190d7a144bdd3</td>\n",
       "      <td>1</td>\n",
       "      <td>e5f2d52b802189ee658865ca93d83a8f</td>\n",
       "      <td>dd7ddc04e1b6c2c614352b383efe2d36</td>\n",
       "      <td>2017-05-03 11:05:13</td>\n",
       "      <td>239.90</td>\n",
       "      <td>19.93</td>\n",
       "      <td>f6dd3ec061db4e3987629fe6b26e5cce</td>\n",
       "      <td>delivered</td>\n",
       "      <td>2017-04-26 10:53:06</td>\n",
       "      <td>...</td>\n",
       "      <td>1.0</td>\n",
       "      <td>credit_card</td>\n",
       "      <td>3.0</td>\n",
       "      <td>259.83</td>\n",
       "      <td>7b07bacd811c4117b742569b04ce3580</td>\n",
       "      <td>4.0</td>\n",
       "      <td>NaN</td>\n",
       "      <td>NaN</td>\n",
       "      <td>2017-05-13 00:00:00</td>\n",
       "      <td>2017-05-15 11:34:13</td>\n",
       "    </tr>\n",
       "    <tr>\n",
       "      <th>2</th>\n",
       "      <td>000229ec398224ef6ca0657da4fc703e</td>\n",
       "      <td>1</td>\n",
       "      <td>c777355d18b72b67abbeef9df44fd0fd</td>\n",
       "      <td>5b51032eddd242adc84c38acab88f23d</td>\n",
       "      <td>2018-01-18 14:48:30</td>\n",
       "      <td>199.00</td>\n",
       "      <td>17.87</td>\n",
       "      <td>6489ae5e4333f3693df5ad4372dab6d3</td>\n",
       "      <td>delivered</td>\n",
       "      <td>2018-01-14 14:33:31</td>\n",
       "      <td>...</td>\n",
       "      <td>1.0</td>\n",
       "      <td>credit_card</td>\n",
       "      <td>5.0</td>\n",
       "      <td>216.87</td>\n",
       "      <td>0c5b33dea94867d1ac402749e5438e8b</td>\n",
       "      <td>5.0</td>\n",
       "      <td>NaN</td>\n",
       "      <td>Chegou antes do prazo previsto e o produto sur...</td>\n",
       "      <td>2018-01-23 00:00:00</td>\n",
       "      <td>2018-01-23 16:06:31</td>\n",
       "    </tr>\n",
       "    <tr>\n",
       "      <th>3</th>\n",
       "      <td>00024acbcdf0a6daa1e931b038114c75</td>\n",
       "      <td>1</td>\n",
       "      <td>7634da152a4610f1595efa32f14722fc</td>\n",
       "      <td>9d7a1d34a5052409006425275ba1c2b4</td>\n",
       "      <td>2018-08-15 10:10:18</td>\n",
       "      <td>12.99</td>\n",
       "      <td>12.79</td>\n",
       "      <td>d4eb9395c8c0431ee92fce09860c5a06</td>\n",
       "      <td>delivered</td>\n",
       "      <td>2018-08-08 10:00:35</td>\n",
       "      <td>...</td>\n",
       "      <td>1.0</td>\n",
       "      <td>credit_card</td>\n",
       "      <td>2.0</td>\n",
       "      <td>25.78</td>\n",
       "      <td>f4028d019cb58564807486a6aaf33817</td>\n",
       "      <td>4.0</td>\n",
       "      <td>NaN</td>\n",
       "      <td>NaN</td>\n",
       "      <td>2018-08-15 00:00:00</td>\n",
       "      <td>2018-08-15 16:39:01</td>\n",
       "    </tr>\n",
       "    <tr>\n",
       "      <th>4</th>\n",
       "      <td>00042b26cf59d7ce69dfabb4e55b4fd9</td>\n",
       "      <td>1</td>\n",
       "      <td>ac6c3623068f30de03045865e4e10089</td>\n",
       "      <td>df560393f3a51e74553ab94004ba5c87</td>\n",
       "      <td>2017-02-13 13:57:51</td>\n",
       "      <td>199.90</td>\n",
       "      <td>18.14</td>\n",
       "      <td>58dbd0b2d70206bf40e62cd34e84d795</td>\n",
       "      <td>delivered</td>\n",
       "      <td>2017-02-04 13:57:51</td>\n",
       "      <td>...</td>\n",
       "      <td>1.0</td>\n",
       "      <td>credit_card</td>\n",
       "      <td>3.0</td>\n",
       "      <td>218.04</td>\n",
       "      <td>940144190dcba6351888cafa43f3a3a5</td>\n",
       "      <td>5.0</td>\n",
       "      <td>NaN</td>\n",
       "      <td>Gostei pois veio no prazo determinado .</td>\n",
       "      <td>2017-03-02 00:00:00</td>\n",
       "      <td>2017-03-03 10:54:59</td>\n",
       "    </tr>\n",
       "  </tbody>\n",
       "</table>\n",
       "<p>5 rows × 39 columns</p>\n",
       "</div>"
      ],
      "text/plain": [
       "                           order_id  order_item_id  \\\n",
       "0  00010242fe8c5a6d1ba2dd792cb16214              1   \n",
       "1  00018f77f2f0320c557190d7a144bdd3              1   \n",
       "2  000229ec398224ef6ca0657da4fc703e              1   \n",
       "3  00024acbcdf0a6daa1e931b038114c75              1   \n",
       "4  00042b26cf59d7ce69dfabb4e55b4fd9              1   \n",
       "\n",
       "                         product_id                         seller_id  \\\n",
       "0  4244733e06e7ecb4970a6e2683c13e61  48436dade18ac8b2bce089ec2a041202   \n",
       "1  e5f2d52b802189ee658865ca93d83a8f  dd7ddc04e1b6c2c614352b383efe2d36   \n",
       "2  c777355d18b72b67abbeef9df44fd0fd  5b51032eddd242adc84c38acab88f23d   \n",
       "3  7634da152a4610f1595efa32f14722fc  9d7a1d34a5052409006425275ba1c2b4   \n",
       "4  ac6c3623068f30de03045865e4e10089  df560393f3a51e74553ab94004ba5c87   \n",
       "\n",
       "   shipping_limit_date   price  freight_value  \\\n",
       "0  2017-09-19 09:45:35   58.90          13.29   \n",
       "1  2017-05-03 11:05:13  239.90          19.93   \n",
       "2  2018-01-18 14:48:30  199.00          17.87   \n",
       "3  2018-08-15 10:10:18   12.99          12.79   \n",
       "4  2017-02-13 13:57:51  199.90          18.14   \n",
       "\n",
       "                        customer_id order_status order_purchase_timestamp  \\\n",
       "0  3ce436f183e68e07877b285a838db11a    delivered      2017-09-13 08:59:02   \n",
       "1  f6dd3ec061db4e3987629fe6b26e5cce    delivered      2017-04-26 10:53:06   \n",
       "2  6489ae5e4333f3693df5ad4372dab6d3    delivered      2018-01-14 14:33:31   \n",
       "3  d4eb9395c8c0431ee92fce09860c5a06    delivered      2018-08-08 10:00:35   \n",
       "4  58dbd0b2d70206bf40e62cd34e84d795    delivered      2017-02-04 13:57:51   \n",
       "\n",
       "   ... payment_sequential payment_type payment_installments payment_value  \\\n",
       "0  ...                1.0  credit_card                  2.0         72.19   \n",
       "1  ...                1.0  credit_card                  3.0        259.83   \n",
       "2  ...                1.0  credit_card                  5.0        216.87   \n",
       "3  ...                1.0  credit_card                  2.0         25.78   \n",
       "4  ...                1.0  credit_card                  3.0        218.04   \n",
       "\n",
       "                          review_id  review_score  review_comment_title  \\\n",
       "0  97ca439bc427b48bc1cd7177abe71365           5.0                   NaN   \n",
       "1  7b07bacd811c4117b742569b04ce3580           4.0                   NaN   \n",
       "2  0c5b33dea94867d1ac402749e5438e8b           5.0                   NaN   \n",
       "3  f4028d019cb58564807486a6aaf33817           4.0                   NaN   \n",
       "4  940144190dcba6351888cafa43f3a3a5           5.0                   NaN   \n",
       "\n",
       "                              review_comment_message  review_creation_date  \\\n",
       "0     Perfeito, produto entregue antes do combinado.   2017-09-21 00:00:00   \n",
       "1                                                NaN   2017-05-13 00:00:00   \n",
       "2  Chegou antes do prazo previsto e o produto sur...   2018-01-23 00:00:00   \n",
       "3                                                NaN   2018-08-15 00:00:00   \n",
       "4            Gostei pois veio no prazo determinado .   2017-03-02 00:00:00   \n",
       "\n",
       "   review_answer_timestamp  \n",
       "0      2017-09-22 10:57:03  \n",
       "1      2017-05-15 11:34:13  \n",
       "2      2018-01-23 16:06:31  \n",
       "3      2018-08-15 16:39:01  \n",
       "4      2017-03-03 10:54:59  \n",
       "\n",
       "[5 rows x 39 columns]"
      ]
     },
     "execution_count": 176,
     "metadata": {},
     "output_type": "execute_result"
    }
   ],
   "source": [
    "df.head()"
   ]
  },
  {
   "cell_type": "markdown",
   "metadata": {},
   "source": [
    "##### Now that I have a complete dataframe, I will save to csv for cleaning"
   ]
  },
  {
   "cell_type": "code",
   "execution_count": 177,
   "metadata": {},
   "outputs": [],
   "source": [
    "df.to_csv(r'/Users/elkehansen/Documents/general_assembly/Capstone-Subsmission/Elke/datasets/complete-df.csv', index=False)"
   ]
  },
  {
   "cell_type": "code",
   "execution_count": null,
   "metadata": {},
   "outputs": [],
   "source": []
  }
 ],
 "metadata": {
  "kernelspec": {
   "display_name": "Python 3",
   "language": "python",
   "name": "python3"
  },
  "language_info": {
   "codemirror_mode": {
    "name": "ipython",
    "version": 3
   },
   "file_extension": ".py",
   "mimetype": "text/x-python",
   "name": "python",
   "nbconvert_exporter": "python",
   "pygments_lexer": "ipython3",
   "version": "3.7.3"
  }
 },
 "nbformat": 4,
 "nbformat_minor": 2
}
