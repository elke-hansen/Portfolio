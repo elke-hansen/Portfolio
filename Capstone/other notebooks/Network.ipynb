{
 "cells": [
  {
   "cell_type": "code",
   "execution_count": 1,
   "metadata": {},
   "outputs": [],
   "source": [
    "import numpy as np\n",
    "import seaborn as sns\n",
    "import pandas as pd\n",
    "from scipy import stats\n",
    "\n",
    "from collections import Counter\n",
    "\n",
    "import matplotlib\n",
    "import matplotlib.pyplot as plt\n",
    "\n",
    "%config InlineBackend.figure_format = 'retina'\n",
    "%matplotlib inline\n",
    "\n",
    "plt.style.use('fivethirtyeight')"
   ]
  },
  {
   "cell_type": "code",
   "execution_count": 2,
   "metadata": {},
   "outputs": [],
   "source": [
    "df = pd.read_csv('./datasets/cleaned-df.csv')"
   ]
  },
  {
   "cell_type": "code",
   "execution_count": 3,
   "metadata": {},
   "outputs": [
    {
     "data": {
      "text/html": [
       "<div>\n",
       "<style scoped>\n",
       "    .dataframe tbody tr th:only-of-type {\n",
       "        vertical-align: middle;\n",
       "    }\n",
       "\n",
       "    .dataframe tbody tr th {\n",
       "        vertical-align: top;\n",
       "    }\n",
       "\n",
       "    .dataframe thead th {\n",
       "        text-align: right;\n",
       "    }\n",
       "</style>\n",
       "<table border=\"1\" class=\"dataframe\">\n",
       "  <thead>\n",
       "    <tr style=\"text-align: right;\">\n",
       "      <th></th>\n",
       "      <th>order_id</th>\n",
       "      <th>price</th>\n",
       "      <th>freight_value</th>\n",
       "      <th>product_name_len</th>\n",
       "      <th>product_description_len</th>\n",
       "      <th>product_photos_qty</th>\n",
       "      <th>product_weight_g</th>\n",
       "      <th>product_length_cm</th>\n",
       "      <th>product_height_cm</th>\n",
       "      <th>product_width_cm</th>\n",
       "      <th>...</th>\n",
       "      <th>order_purchase_dayofweek</th>\n",
       "      <th>days_to_customer</th>\n",
       "      <th>days_to_carrier</th>\n",
       "      <th>overall_shipping_time</th>\n",
       "      <th>shipped_on_time</th>\n",
       "      <th>delivered_on_time</th>\n",
       "      <th>category</th>\n",
       "      <th>customer_name</th>\n",
       "      <th>product_name</th>\n",
       "      <th>brand_name</th>\n",
       "    </tr>\n",
       "  </thead>\n",
       "  <tbody>\n",
       "    <tr>\n",
       "      <td>0</td>\n",
       "      <td>00010242fe8c5a6d1ba2dd792cb16214</td>\n",
       "      <td>58.9</td>\n",
       "      <td>13.29</td>\n",
       "      <td>58</td>\n",
       "      <td>598</td>\n",
       "      <td>4</td>\n",
       "      <td>650.0</td>\n",
       "      <td>28.0</td>\n",
       "      <td>9.0</td>\n",
       "      <td>14.0</td>\n",
       "      <td>...</td>\n",
       "      <td>2</td>\n",
       "      <td>1.2</td>\n",
       "      <td>6.4</td>\n",
       "      <td>7.6</td>\n",
       "      <td>0</td>\n",
       "      <td>1</td>\n",
       "      <td>gifts_party</td>\n",
       "      <td>Rodrigo Keefe</td>\n",
       "      <td>limit Lisa</td>\n",
       "      <td>Speed Net Electronics</td>\n",
       "    </tr>\n",
       "    <tr>\n",
       "      <td>1</td>\n",
       "      <td>130898c0987d1801452a8ed92a670612</td>\n",
       "      <td>55.9</td>\n",
       "      <td>17.96</td>\n",
       "      <td>58</td>\n",
       "      <td>598</td>\n",
       "      <td>4</td>\n",
       "      <td>650.0</td>\n",
       "      <td>28.0</td>\n",
       "      <td>9.0</td>\n",
       "      <td>14.0</td>\n",
       "      <td>...</td>\n",
       "      <td>2</td>\n",
       "      <td>8.4</td>\n",
       "      <td>7.0</td>\n",
       "      <td>15.4</td>\n",
       "      <td>0</td>\n",
       "      <td>1</td>\n",
       "      <td>gifts_party</td>\n",
       "      <td>Julianna Queen</td>\n",
       "      <td>limit Lisa</td>\n",
       "      <td>Speed Net Electronics</td>\n",
       "    </tr>\n",
       "    <tr>\n",
       "      <td>2</td>\n",
       "      <td>532ed5e14e24ae1f0d735b91524b98b9</td>\n",
       "      <td>64.9</td>\n",
       "      <td>18.33</td>\n",
       "      <td>58</td>\n",
       "      <td>598</td>\n",
       "      <td>4</td>\n",
       "      <td>650.0</td>\n",
       "      <td>28.0</td>\n",
       "      <td>9.0</td>\n",
       "      <td>14.0</td>\n",
       "      <td>...</td>\n",
       "      <td>4</td>\n",
       "      <td>12.2</td>\n",
       "      <td>5.2</td>\n",
       "      <td>17.3</td>\n",
       "      <td>0</td>\n",
       "      <td>1</td>\n",
       "      <td>gifts_party</td>\n",
       "      <td>Palmer Bankston</td>\n",
       "      <td>limit Lisa</td>\n",
       "      <td>Speed Net Electronics</td>\n",
       "    </tr>\n",
       "    <tr>\n",
       "      <td>3</td>\n",
       "      <td>6f8c31653edb8c83e1a739408b5ff750</td>\n",
       "      <td>58.9</td>\n",
       "      <td>16.17</td>\n",
       "      <td>58</td>\n",
       "      <td>598</td>\n",
       "      <td>4</td>\n",
       "      <td>650.0</td>\n",
       "      <td>28.0</td>\n",
       "      <td>9.0</td>\n",
       "      <td>14.0</td>\n",
       "      <td>...</td>\n",
       "      <td>1</td>\n",
       "      <td>7.1</td>\n",
       "      <td>1.0</td>\n",
       "      <td>8.1</td>\n",
       "      <td>1</td>\n",
       "      <td>1</td>\n",
       "      <td>gifts_party</td>\n",
       "      <td>Lupe Pettigrew</td>\n",
       "      <td>limit Lisa</td>\n",
       "      <td>Speed Net Electronics</td>\n",
       "    </tr>\n",
       "    <tr>\n",
       "      <td>4</td>\n",
       "      <td>7d19f4ef4d04461989632411b7e588b9</td>\n",
       "      <td>58.9</td>\n",
       "      <td>13.29</td>\n",
       "      <td>58</td>\n",
       "      <td>598</td>\n",
       "      <td>4</td>\n",
       "      <td>650.0</td>\n",
       "      <td>28.0</td>\n",
       "      <td>9.0</td>\n",
       "      <td>14.0</td>\n",
       "      <td>...</td>\n",
       "      <td>3</td>\n",
       "      <td>13.0</td>\n",
       "      <td>0.9</td>\n",
       "      <td>13.9</td>\n",
       "      <td>1</td>\n",
       "      <td>1</td>\n",
       "      <td>gifts_party</td>\n",
       "      <td>Genaro Cheatham</td>\n",
       "      <td>limit Lisa</td>\n",
       "      <td>Speed Net Electronics</td>\n",
       "    </tr>\n",
       "  </tbody>\n",
       "</table>\n",
       "<p>5 rows × 32 columns</p>\n",
       "</div>"
      ],
      "text/plain": [
       "                           order_id  price  freight_value  product_name_len  \\\n",
       "0  00010242fe8c5a6d1ba2dd792cb16214   58.9          13.29                58   \n",
       "1  130898c0987d1801452a8ed92a670612   55.9          17.96                58   \n",
       "2  532ed5e14e24ae1f0d735b91524b98b9   64.9          18.33                58   \n",
       "3  6f8c31653edb8c83e1a739408b5ff750   58.9          16.17                58   \n",
       "4  7d19f4ef4d04461989632411b7e588b9   58.9          13.29                58   \n",
       "\n",
       "   product_description_len  product_photos_qty  product_weight_g  \\\n",
       "0                      598                   4             650.0   \n",
       "1                      598                   4             650.0   \n",
       "2                      598                   4             650.0   \n",
       "3                      598                   4             650.0   \n",
       "4                      598                   4             650.0   \n",
       "\n",
       "   product_length_cm  product_height_cm  product_width_cm  ...  \\\n",
       "0               28.0                9.0              14.0  ...   \n",
       "1               28.0                9.0              14.0  ...   \n",
       "2               28.0                9.0              14.0  ...   \n",
       "3               28.0                9.0              14.0  ...   \n",
       "4               28.0                9.0              14.0  ...   \n",
       "\n",
       "  order_purchase_dayofweek days_to_customer days_to_carrier  \\\n",
       "0                        2              1.2             6.4   \n",
       "1                        2              8.4             7.0   \n",
       "2                        4             12.2             5.2   \n",
       "3                        1              7.1             1.0   \n",
       "4                        3             13.0             0.9   \n",
       "\n",
       "   overall_shipping_time shipped_on_time delivered_on_time     category  \\\n",
       "0                    7.6               0                 1  gifts_party   \n",
       "1                   15.4               0                 1  gifts_party   \n",
       "2                   17.3               0                 1  gifts_party   \n",
       "3                    8.1               1                 1  gifts_party   \n",
       "4                   13.9               1                 1  gifts_party   \n",
       "\n",
       "     customer_name  product_name             brand_name  \n",
       "0    Rodrigo Keefe    limit Lisa  Speed Net Electronics  \n",
       "1   Julianna Queen    limit Lisa  Speed Net Electronics  \n",
       "2  Palmer Bankston    limit Lisa  Speed Net Electronics  \n",
       "3   Lupe Pettigrew    limit Lisa  Speed Net Electronics  \n",
       "4  Genaro Cheatham    limit Lisa  Speed Net Electronics  \n",
       "\n",
       "[5 rows x 32 columns]"
      ]
     },
     "execution_count": 3,
     "metadata": {},
     "output_type": "execute_result"
    }
   ],
   "source": [
    "df.head()"
   ]
  },
  {
   "cell_type": "code",
   "execution_count": 4,
   "metadata": {},
   "outputs": [
    {
     "data": {
      "text/plain": [
       "Index(['order_id', 'price', 'freight_value', 'product_name_len',\n",
       "       'product_description_len', 'product_photos_qty', 'product_weight_g',\n",
       "       'product_length_cm', 'product_height_cm', 'product_width_cm',\n",
       "       'product_category_name_english', 'seller_city', 'seller_state',\n",
       "       'customer_zip_code_prefix', 'customer_city', 'customer_state',\n",
       "       'payment_type', 'payment_installments', 'payment_value', 'review_score',\n",
       "       'order_purchase_year', 'order_purchase_month',\n",
       "       'order_purchase_dayofweek', 'days_to_customer', 'days_to_carrier',\n",
       "       'overall_shipping_time', 'shipped_on_time', 'delivered_on_time',\n",
       "       'category', 'customer_name', 'product_name', 'brand_name'],\n",
       "      dtype='object')"
      ]
     },
     "execution_count": 4,
     "metadata": {},
     "output_type": "execute_result"
    }
   ],
   "source": [
    "df.columns"
   ]
  },
  {
   "cell_type": "code",
   "execution_count": 5,
   "metadata": {},
   "outputs": [],
   "source": [
    "col_counts = df['product_name'].value_counts()\n",
    "top_50_prod = col_counts[0:50].index.to_list()"
   ]
  },
  {
   "cell_type": "code",
   "execution_count": 6,
   "metadata": {},
   "outputs": [
    {
     "data": {
      "text/plain": [
       "['chick statement',\n",
       " 'crayon icebreaker',\n",
       " 'karate tugboat',\n",
       " 'law icon',\n",
       " 'utensil scallion',\n",
       " 'icon tip',\n",
       " 'patch cone',\n",
       " 'transmission pink',\n",
       " 'February Africa',\n",
       " 'lamp height',\n",
       " 'chin drain',\n",
       " 'hand step-uncle',\n",
       " 'system hockey',\n",
       " 'pendulum Aquarius',\n",
       " 'shake violin',\n",
       " 'swim shop',\n",
       " 'opinion broker',\n",
       " 'freckle sundial',\n",
       " 'margin balance',\n",
       " 'elbow novel',\n",
       " 'work fiber',\n",
       " 'bagel passive',\n",
       " 'trial target',\n",
       " 'engine peer-to-peer',\n",
       " 'attack library',\n",
       " 'current feather',\n",
       " 'stamp hacksaw',\n",
       " 'South Korea goal',\n",
       " 'daisy duck',\n",
       " 'panda radio',\n",
       " 'arch segment',\n",
       " 'island purple',\n",
       " 'shirt acoustic',\n",
       " 'pendulum larch',\n",
       " 'syrup icebreaker',\n",
       " 'sousaphone bell',\n",
       " 'garden river',\n",
       " 'withdrawal straw',\n",
       " 'soldier glockenspiel',\n",
       " 'beer metal',\n",
       " 'sweatshop moustache',\n",
       " 'creature gorilla',\n",
       " 'professor leaf',\n",
       " 'state printer',\n",
       " 'knot middle',\n",
       " 'leg pentagon',\n",
       " 'value freon',\n",
       " 'mustard judge',\n",
       " 'sun plier',\n",
       " 'postbox river']"
      ]
     },
     "execution_count": 6,
     "metadata": {},
     "output_type": "execute_result"
    }
   ],
   "source": [
    "top_50_prod"
   ]
  },
  {
   "cell_type": "code",
   "execution_count": 7,
   "metadata": {},
   "outputs": [],
   "source": [
    "top_df = df.loc[df['product_name'].isin(top_50_prod)]"
   ]
  },
  {
   "cell_type": "code",
   "execution_count": 8,
   "metadata": {},
   "outputs": [
    {
     "data": {
      "text/plain": [
       "Galaxy People                        1858\n",
       "Network Vision Bell                   949\n",
       "Pacific Star Solutions                733\n",
       "Architecture Signal Consulting        731\n",
       "Telecom Design Provider               634\n",
       "People Vision Systems                 504\n",
       "Studio Design South                   336\n",
       "Medicine Galaxy Bell                  302\n",
       "Advanced Universal Power              294\n",
       "Software Power Bell                   272\n",
       "Electronic Resource                   237\n",
       "Adventure Graphics Consulting         224\n",
       "Construction Medicine Advanced        193\n",
       "Software Interactive Medicine         176\n",
       "Resource Building People              166\n",
       "Adventure Alpha Industries            152\n",
       "Telecom Federated Direct              148\n",
       "Source Contract Analysis              140\n",
       "Vision Federated Solutions            140\n",
       "Digital Network Star                  136\n",
       "Omega Pacific Telecom                 135\n",
       "Electronics Hardware Architecture     130\n",
       "Bell East                             117\n",
       "Building Architecture General         110\n",
       "Advanced Speed Network                105\n",
       "Frontier Solutions Graphics            89\n",
       "Universal West Direct                  88\n",
       "Data Omega                             57\n",
       "Provider Signal Pacific                44\n",
       "Future Research Systems                44\n",
       "Electronic Software Solutions          43\n",
       "Advanced Design Galaxy                 40\n",
       "Network Future Speed                   38\n",
       "Research Net Resource                  36\n",
       "Bell Building Studio                   29\n",
       "Speed Graphics Direct                  27\n",
       "Hardware Max                           22\n",
       "Adventure Max Technology               20\n",
       "Power Analysis                         12\n",
       "People North                           12\n",
       "Network Vision Max                      8\n",
       "Speed Innovation West                   7\n",
       "Resource Interactive Speed              4\n",
       "Solutions Electronic Graphics           3\n",
       "Contract Solutions Federated            2\n",
       "Innovation Analysis Resource            1\n",
       "Star Adventure Consulting               1\n",
       "Name: brand_name, dtype: int64"
      ]
     },
     "execution_count": 8,
     "metadata": {},
     "output_type": "execute_result"
    }
   ],
   "source": [
    "top_df.brand_name.value_counts()"
   ]
  },
  {
   "cell_type": "code",
   "execution_count": 11,
   "metadata": {},
   "outputs": [],
   "source": [
    "column_edge = 'brand_name'\n",
    "column_ID = 'product_name'\n",
    "\n",
    "# select columns, remove NaN\n",
    "data_to_merge = top_df[[column_ID, column_edge]].dropna(subset=[column_edge]).drop_duplicates() \n",
    "\n",
    "# To create connections between people who have the same number,\n",
    "# join data with itself on the 'ID' column.\n",
    "data_to_merge = data_to_merge.merge(\n",
    "    data_to_merge[[column_ID, column_edge]].rename(columns={column_ID:column_ID+\"_2\"}), \n",
    "    on=column_edge)"
   ]
  },
  {
   "cell_type": "code",
   "execution_count": 12,
   "metadata": {},
   "outputs": [
    {
     "data": {
      "text/html": [
       "<div>\n",
       "<style scoped>\n",
       "    .dataframe tbody tr th:only-of-type {\n",
       "        vertical-align: middle;\n",
       "    }\n",
       "\n",
       "    .dataframe tbody tr th {\n",
       "        vertical-align: top;\n",
       "    }\n",
       "\n",
       "    .dataframe thead th {\n",
       "        text-align: right;\n",
       "    }\n",
       "</style>\n",
       "<table border=\"1\" class=\"dataframe\">\n",
       "  <thead>\n",
       "    <tr style=\"text-align: right;\">\n",
       "      <th></th>\n",
       "      <th>product_name</th>\n",
       "      <th>brand_name</th>\n",
       "      <th>product_name_2</th>\n",
       "    </tr>\n",
       "  </thead>\n",
       "  <tbody>\n",
       "    <tr>\n",
       "      <td>0</td>\n",
       "      <td>chin drain</td>\n",
       "      <td>Network Vision Bell</td>\n",
       "      <td>chin drain</td>\n",
       "    </tr>\n",
       "    <tr>\n",
       "      <td>1</td>\n",
       "      <td>chin drain</td>\n",
       "      <td>Network Vision Bell</td>\n",
       "      <td>system hockey</td>\n",
       "    </tr>\n",
       "    <tr>\n",
       "      <td>2</td>\n",
       "      <td>chin drain</td>\n",
       "      <td>Network Vision Bell</td>\n",
       "      <td>sousaphone bell</td>\n",
       "    </tr>\n",
       "    <tr>\n",
       "      <td>3</td>\n",
       "      <td>chin drain</td>\n",
       "      <td>Network Vision Bell</td>\n",
       "      <td>lamp height</td>\n",
       "    </tr>\n",
       "    <tr>\n",
       "      <td>4</td>\n",
       "      <td>chin drain</td>\n",
       "      <td>Network Vision Bell</td>\n",
       "      <td>soldier glockenspiel</td>\n",
       "    </tr>\n",
       "  </tbody>\n",
       "</table>\n",
       "</div>"
      ],
      "text/plain": [
       "  product_name           brand_name        product_name_2\n",
       "0   chin drain  Network Vision Bell            chin drain\n",
       "1   chin drain  Network Vision Bell         system hockey\n",
       "2   chin drain  Network Vision Bell       sousaphone bell\n",
       "3   chin drain  Network Vision Bell           lamp height\n",
       "4   chin drain  Network Vision Bell  soldier glockenspiel"
      ]
     },
     "execution_count": 12,
     "metadata": {},
     "output_type": "execute_result"
    }
   ],
   "source": [
    "data_to_merge.head()"
   ]
  },
  {
   "cell_type": "code",
   "execution_count": 9,
   "metadata": {},
   "outputs": [
    {
     "ename": "NameError",
     "evalue": "name 'data_to_merge' is not defined",
     "output_type": "error",
     "traceback": [
      "\u001b[0;31m---------------------------------------------------------------------------\u001b[0m",
      "\u001b[0;31mNameError\u001b[0m                                 Traceback (most recent call last)",
      "\u001b[0;32m<ipython-input-9-45963e17da6a>\u001b[0m in \u001b[0;36m<module>\u001b[0;34m\u001b[0m\n\u001b[1;32m      1\u001b[0m \u001b[0;31m# By joining the data with itself, people will have a connection with themselves.\u001b[0m\u001b[0;34m\u001b[0m\u001b[0;34m\u001b[0m\u001b[0;34m\u001b[0m\u001b[0m\n\u001b[1;32m      2\u001b[0m \u001b[0;31m# Remove self connections, to keep only connected people who are different.\u001b[0m\u001b[0;34m\u001b[0m\u001b[0;34m\u001b[0m\u001b[0;34m\u001b[0m\u001b[0m\n\u001b[0;32m----> 3\u001b[0;31m \u001b[0md\u001b[0m \u001b[0;34m=\u001b[0m \u001b[0mdata_to_merge\u001b[0m\u001b[0;34m[\u001b[0m\u001b[0;34m~\u001b[0m\u001b[0;34m(\u001b[0m\u001b[0mdata_to_merge\u001b[0m\u001b[0;34m[\u001b[0m\u001b[0mcolumn_ID\u001b[0m\u001b[0;34m]\u001b[0m\u001b[0;34m==\u001b[0m\u001b[0mdata_to_merge\u001b[0m\u001b[0;34m[\u001b[0m\u001b[0mcolumn_ID\u001b[0m\u001b[0;34m+\u001b[0m\u001b[0;34m\"_2\"\u001b[0m\u001b[0;34m]\u001b[0m\u001b[0;34m)\u001b[0m\u001b[0;34m]\u001b[0m\u001b[0;31m \u001b[0m\u001b[0;31m\\\u001b[0m\u001b[0;34m\u001b[0m\u001b[0;34m\u001b[0m\u001b[0m\n\u001b[0m\u001b[1;32m      4\u001b[0m     \u001b[0;34m.\u001b[0m\u001b[0mdropna\u001b[0m\u001b[0;34m(\u001b[0m\u001b[0;34m)\u001b[0m\u001b[0;34m[\u001b[0m\u001b[0;34m[\u001b[0m\u001b[0mcolumn_ID\u001b[0m\u001b[0;34m,\u001b[0m \u001b[0mcolumn_ID\u001b[0m\u001b[0;34m+\u001b[0m\u001b[0;34m\"_2\"\u001b[0m\u001b[0;34m,\u001b[0m \u001b[0mcolumn_edge\u001b[0m\u001b[0;34m]\u001b[0m\u001b[0;34m]\u001b[0m\u001b[0;34m\u001b[0m\u001b[0;34m\u001b[0m\u001b[0m\n\u001b[1;32m      5\u001b[0m \u001b[0;34m\u001b[0m\u001b[0m\n",
      "\u001b[0;31mNameError\u001b[0m: name 'data_to_merge' is not defined"
     ]
    }
   ],
   "source": [
    "# By joining the data with itself, people will have a connection with themselves.\n",
    "# Remove self connections, to keep only connected people who are different.\n",
    "d = data_to_merge[~(data_to_merge[column_ID]==data_to_merge[column_ID+\"_2\"])] \\\n",
    "    .dropna()[[column_ID, column_ID+\"_2\", column_edge]]\n",
    "    \n",
    "# To avoid counting twice the connections (person 1 connected to person 2 and person 2 connected to person 1)\n",
    "# we force the first ID to be \"lower\" then ID_2\n",
    "d.drop(d.loc[d[column_ID+\"_2\"]<d[column_ID]].index.tolist(), inplace=True)"
   ]
  },
  {
   "cell_type": "code",
   "execution_count": 10,
   "metadata": {},
   "outputs": [
    {
     "ename": "NameError",
     "evalue": "name 'd' is not defined",
     "output_type": "error",
     "traceback": [
      "\u001b[0;31m---------------------------------------------------------------------------\u001b[0m",
      "\u001b[0;31mNameError\u001b[0m                                 Traceback (most recent call last)",
      "\u001b[0;32m<ipython-input-10-88008315031f>\u001b[0m in \u001b[0;36m<module>\u001b[0;34m\u001b[0m\n\u001b[0;32m----> 1\u001b[0;31m \u001b[0md\u001b[0m\u001b[0;34m.\u001b[0m\u001b[0mhead\u001b[0m\u001b[0;34m(\u001b[0m\u001b[0;34m)\u001b[0m\u001b[0;34m\u001b[0m\u001b[0;34m\u001b[0m\u001b[0m\n\u001b[0m",
      "\u001b[0;31mNameError\u001b[0m: name 'd' is not defined"
     ]
    }
   ],
   "source": [
    "d.head()"
   ]
  },
  {
   "cell_type": "code",
   "execution_count": 28,
   "metadata": {},
   "outputs": [],
   "source": [
    "import networkx as nx\n",
    "\n",
    "G = nx.from_pandas_edgelist(df=d, source=column_ID, target=column_ID+'_2', edge_attr=column_edge)\n",
    "\n",
    "G.add_nodes_from(nodes_for_adding=top_df.product_name.tolist(), label=top_df.product_name.tolist())"
   ]
  },
  {
   "cell_type": "code",
   "execution_count": 29,
   "metadata": {},
   "outputs": [
    {
     "data": {
      "text/plain": [
       "8394"
      ]
     },
     "execution_count": 29,
     "metadata": {},
     "output_type": "execute_result"
    }
   ],
   "source": [
    "len(G.nodes())"
   ]
  },
  {
   "cell_type": "code",
   "execution_count": 30,
   "metadata": {},
   "outputs": [],
   "source": [
    "column_edge = 'product_name'\n",
    "column_ID = 'customer_name'\n",
    "\n",
    "data_to_merge = top_df[[column_ID, column_edge]].dropna(subset=[column_edge]).drop_duplicates()\n",
    "\n",
    "data_to_merge = data_to_merge.merge(\n",
    "    data_to_merge[[column_ID, column_edge]].rename(columns={column_ID:column_ID+\"_2\"}), \n",
    "    on=column_edge\n",
    ")\n",
    "\n",
    "d = data_to_merge[~(data_to_merge[column_ID]==data_to_merge[column_ID+\"_2\"])] \\\n",
    "    .dropna()[[column_ID, column_ID+\"_2\", column_edge]]\n",
    "\n",
    "d.drop(d.loc[d[column_ID+\"_2\"]<d[column_ID]].index.tolist(), inplace=True)"
   ]
  },
  {
   "cell_type": "code",
   "execution_count": 31,
   "metadata": {},
   "outputs": [
    {
     "data": {
      "text/html": [
       "<div>\n",
       "<style scoped>\n",
       "    .dataframe tbody tr th:only-of-type {\n",
       "        vertical-align: middle;\n",
       "    }\n",
       "\n",
       "    .dataframe tbody tr th {\n",
       "        vertical-align: top;\n",
       "    }\n",
       "\n",
       "    .dataframe thead th {\n",
       "        text-align: right;\n",
       "    }\n",
       "</style>\n",
       "<table border=\"1\" class=\"dataframe\">\n",
       "  <thead>\n",
       "    <tr style=\"text-align: right;\">\n",
       "      <th></th>\n",
       "      <th>customer_name</th>\n",
       "      <th>customer_name_2</th>\n",
       "      <th>product_name</th>\n",
       "    </tr>\n",
       "  </thead>\n",
       "  <tbody>\n",
       "    <tr>\n",
       "      <td>4</td>\n",
       "      <td>Lila Monson</td>\n",
       "      <td>Michaela Roach</td>\n",
       "      <td>chin drain</td>\n",
       "    </tr>\n",
       "    <tr>\n",
       "      <td>5</td>\n",
       "      <td>Lila Monson</td>\n",
       "      <td>Robert Hopper</td>\n",
       "      <td>chin drain</td>\n",
       "    </tr>\n",
       "    <tr>\n",
       "      <td>8</td>\n",
       "      <td>Lila Monson</td>\n",
       "      <td>Toney Schwartz</td>\n",
       "      <td>chin drain</td>\n",
       "    </tr>\n",
       "    <tr>\n",
       "      <td>11</td>\n",
       "      <td>Lila Monson</td>\n",
       "      <td>Rubin Lancaster</td>\n",
       "      <td>chin drain</td>\n",
       "    </tr>\n",
       "    <tr>\n",
       "      <td>20</td>\n",
       "      <td>Lila Monson</td>\n",
       "      <td>Randolph Harmon</td>\n",
       "      <td>chin drain</td>\n",
       "    </tr>\n",
       "  </tbody>\n",
       "</table>\n",
       "</div>"
      ],
      "text/plain": [
       "   customer_name  customer_name_2 product_name\n",
       "4    Lila Monson   Michaela Roach   chin drain\n",
       "5    Lila Monson    Robert Hopper   chin drain\n",
       "8    Lila Monson   Toney Schwartz   chin drain\n",
       "11   Lila Monson  Rubin Lancaster   chin drain\n",
       "20   Lila Monson  Randolph Harmon   chin drain"
      ]
     },
     "execution_count": 31,
     "metadata": {},
     "output_type": "execute_result"
    }
   ],
   "source": [
    "d.head()"
   ]
  },
  {
   "cell_type": "code",
   "execution_count": 34,
   "metadata": {},
   "outputs": [],
   "source": [
    "edges = d.drop(columns='product_name')"
   ]
  },
  {
   "cell_type": "code",
   "execution_count": 36,
   "metadata": {},
   "outputs": [],
   "source": [
    "edges.to_csv(r'/Users/elkehansen/Documents/general_assembly/Capstone-Subsmission/Elke/datasets/network_edges.csv', index=False)"
   ]
  },
  {
   "cell_type": "code",
   "execution_count": 14,
   "metadata": {},
   "outputs": [],
   "source": [
    "customers = d.customer_name.unique().tolist()"
   ]
  },
  {
   "cell_type": "code",
   "execution_count": 15,
   "metadata": {},
   "outputs": [
    {
     "data": {
      "text/plain": [
       "list"
      ]
     },
     "execution_count": 15,
     "metadata": {},
     "output_type": "execute_result"
    }
   ],
   "source": [
    "type(customers)"
   ]
  },
  {
   "cell_type": "code",
   "execution_count": 16,
   "metadata": {},
   "outputs": [
    {
     "data": {
      "text/plain": [
       "8296"
      ]
     },
     "execution_count": 16,
     "metadata": {},
     "output_type": "execute_result"
    }
   ],
   "source": [
    "len(customers)"
   ]
  },
  {
   "cell_type": "code",
   "execution_count": 17,
   "metadata": {},
   "outputs": [],
   "source": [
    "points = df[df['customer_name'].isin(customers)][['customer_name','category','brand_name']]"
   ]
  },
  {
   "cell_type": "markdown",
   "metadata": {},
   "source": [
    "#### Ideally would like to have the network graph by product as the flourish visualisation does not allow colouring by edge (which I would like so I can see a correlation on category). HOWEVER, I just want to see what the initial graph looks like so I will just 'drop first' in duplicates so I can get something working"
   ]
  },
  {
   "cell_type": "code",
   "execution_count": 23,
   "metadata": {},
   "outputs": [],
   "source": [
    "points_adj = points.drop_duplicates(subset=['customer_name'],keep='first')"
   ]
  },
  {
   "cell_type": "code",
   "execution_count": null,
   "metadata": {},
   "outputs": [],
   "source": []
  },
  {
   "cell_type": "code",
   "execution_count": 24,
   "metadata": {},
   "outputs": [],
   "source": [
    "points_adj.to_csv(r'/Users/elkehansen/Documents/general_assembly/Capstone-Subsmission/Elke/datasets/network_points.csv', index=False)\n"
   ]
  },
  {
   "cell_type": "code",
   "execution_count": null,
   "metadata": {},
   "outputs": [],
   "source": []
  },
  {
   "cell_type": "code",
   "execution_count": 33,
   "metadata": {},
   "outputs": [],
   "source": [
    "# Create the connections in the graph\n",
    "links_attributes = {tuple(row[[column_ID, column_ID+\"_2\"]]): {column_edge: row[column_edge]} for i,row in d.iterrows()}\n",
    "\n",
    "G.add_edges_from(links_attributes) # create the connection, without attribute. Check it with G.get_edge_data(3,5)\n",
    "nx.set_edge_attributes(G=G, values=links_attributes) # adds the attribute. Check it with G.get_edge_data(3,5)"
   ]
  },
  {
   "cell_type": "code",
   "execution_count": 38,
   "metadata": {},
   "outputs": [],
   "source": [
    "# EDGE_SIZE = {\n",
    "#     'customer_unique_id': 2,\n",
    "#     'seller_id': 1,\n",
    "# }\n",
    "\n",
    "# EDGE_COLOR = {\n",
    "#     'customer_unique_id': 'purple',\n",
    "#     'seller_id': 'red',\n",
    "# }\n",
    "\n",
    "# def clean_edge(edge):\n",
    "#     s.edge[edge[0], edge[1]].values()\n",
    "\n",
    "# def c_(list_edges): return [a for a in list_edges if a in list(EDGE_COLOR.keys())]\n",
    "    \n",
    "# # For nx.Graph()\n",
    "# def edge_sizes(s): return [EDGE_SIZE[c_(list(s.edges[edge[0], edge[1]].keys()))[-1]] for edge in s.edges()] # /!\\ multiple links => one size\n",
    "# def edge_colors(s): return [EDGE_COLOR[c_(list(s.edges[edge[0], edge[1]].keys()))[-1]] for edge in s.edges()] # /!\\ multiple links => one color\n",
    "\n",
    "# # For nx.MultiDiGraph()\n",
    "# def edge_sizes(s): return [EDGE_SIZE[s.edge[edge[0]][edge[1]][0]['label']] for edge in s.edges()] # /!\\ multiple links => one size\n",
    "# def edge_colors(s): return [EDGE_COLOR[s.edge[edge[0]][edge[1]][0]['label']] for edge in s.edges()] # /!\\ multiple links => one color\n",
    "\n",
    "def draw(s):\n",
    "    pos = nx.spring_layout(s, scale=0.5)\n",
    "    node_labels = dict((n,d['Name']) for n,d in s.nodes(data=True))\n",
    "#     labels = {**node_labels, **edge_labels}\n",
    "    nx.draw(s, pos=pos, width=edge_sizes(s), edge_color=edge_colors(s), alpha=0.8, arrows=False, node_color='lightgrey', node_size=20,\n",
    "#             labels=node_labels, \n",
    "#             font_color='black', font_size=8, font_weight='bold',\n",
    "           )\n",
    "    edge_labels = dict(((u,v),list(d.values())[0]) for u,v,d in G.edges(data=True))\n",
    "    nx.draw_networkx_edge_labels(G, pos, edge_labels = edge_labels, font_size=8)\n",
    "    nx.draw_networkx_edges"
   ]
  },
  {
   "cell_type": "code",
   "execution_count": 39,
   "metadata": {},
   "outputs": [
    {
     "name": "stderr",
     "output_type": "stream",
     "text": [
      "/Applications/anaconda3/lib/python3.7/site-packages/networkx/drawing/nx_pylab.py:579: MatplotlibDeprecationWarning: \n",
      "The iterable function was deprecated in Matplotlib 3.1 and will be removed in 3.3. Use np.iterable instead.\n",
      "  if not cb.iterable(width):\n"
     ]
    },
    {
     "data": {
      "image/png": "[encoded data removed]",
      "text/plain": [
       "<Figure size 432x288 with 1 Axes>"
      ]
     },
     "metadata": {
      "image/png": {
       "height": 302,
       "width": 446
      }
     },
     "output_type": "display_data"
    }
   ],
   "source": [
    "nx.draw(G)"
   ]
  },
  {
   "cell_type": "code",
   "execution_count": 41,
   "metadata": {},
   "outputs": [
    {
     "data": {
      "text/plain": [
       "898871"
      ]
     },
     "execution_count": 41,
     "metadata": {},
     "output_type": "execute_result"
    }
   ],
   "source": [
    "G.number_of_edges()"
   ]
  },
  {
   "cell_type": "code",
   "execution_count": 42,
   "metadata": {},
   "outputs": [
    {
     "data": {
      "text/plain": [
       "8394"
      ]
     },
     "execution_count": 42,
     "metadata": {},
     "output_type": "execute_result"
    }
   ],
   "source": [
    "G.number_of_nodes()"
   ]
  },
  {
   "cell_type": "code",
   "execution_count": 24,
   "metadata": {},
   "outputs": [],
   "source": [
    "import pandas as pd\n",
    "pd.options.display.max_columns = 20\n",
    "import numpy as np\n",
    "rng = np.random.RandomState(seed=5)\n",
    "ints = rng.randint(1, 11, size=(3,2))\n",
    "a = ['A', 'B', 'C']\n",
    "b = ['D', 'A', 'E']\n",
    "# df = pd.DataFrame(ints, columns=['weight', 'cost'])\n",
    "# df[0] = a\n",
    "# df['b'] = b\n",
    "# df[['weight', 'cost', 0, 'b']]\n",
    "\n",
    "G = nx.from_pandas_edgelist(df, 0, 'b', ['weight', 'cost'])\n",
    "\n",
    "\n",
    "edges = pd.DataFrame({'source': [0, 1, 2],\n",
    "                       'target': [2, 2, 3],\n",
    "                       'weight': [3, 4, 5],\n",
    "                       'color': ['red', 'blue', 'blue']})\n",
    "G = nx.from_pandas_edgelist(edges, edge_attr=True)\n"
   ]
  },
  {
   "cell_type": "code",
   "execution_count": 25,
   "metadata": {},
   "outputs": [
    {
     "data": {
      "image/png": "[encoded data removed]",
      "text/plain": [
       "<Figure size 432x288 with 1 Axes>"
      ]
     },
     "metadata": {
      "image/png": {
       "height": 302,
       "width": 446
      }
     },
     "output_type": "display_data"
    }
   ],
   "source": [
    "nx.draw(G)"
   ]
  },
  {
   "cell_type": "code",
   "execution_count": null,
   "metadata": {},
   "outputs": [],
   "source": []
  }
 ],
 "metadata": {
  "kernelspec": {
   "display_name": "Python 3",
   "language": "python",
   "name": "python3"
  },
  "language_info": {
   "codemirror_mode": {
    "name": "ipython",
    "version": 3
   },
   "file_extension": ".py",
   "mimetype": "text/x-python",
   "name": "python",
   "nbconvert_exporter": "python",
   "pygments_lexer": "ipython3",
   "version": "3.7.4"
  },
  "toc": {
   "base_numbering": 1,
   "nav_menu": {},
   "number_sections": true,
   "sideBar": true,
   "skip_h1_title": false,
   "title_cell": "Table of Contents",
   "title_sidebar": "Contents",
   "toc_cell": false,
   "toc_position": {},
   "toc_section_display": true,
   "toc_window_display": false
  }
 },
 "nbformat": 4,
 "nbformat_minor": 2
}
